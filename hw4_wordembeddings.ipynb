{
 "cells": [
  {
   "cell_type": "markdown",
   "metadata": {},
   "source": [
    "# Homework 4: Word Embeddings and Neural Language Models\n",
    "\n",
    "\n",
    "Names: __Suzanne Becker, Yuval Timen__"
   ]
  },
  {
   "cell_type": "markdown",
   "metadata": {},
   "source": [
    "Step 1: Word2Vec paper questions\n",
    "---------------------------\n",
    "\n",
    "### 1. Describe how a CBOW word embedding is generated.\n",
    "\n",
    "A CBOW word embedding can be created by using the CBOW algorithm. This would consist of training a classifier to predict a target word given some context words. Specifically, given the sequence of length M $w_{0} ... w_{M}$ and a window size N, we would first create one-hot vectors for each word in the sequence. These will be used as inputs to the classifier. Then for each time step $t$, we will be trying to predict the word $w_{t}$ given the context words within the N-sized window. We take the N words from either side of $w_{t}$, namely $w_{t-N}...w_{t+N}$ excluding $w_{t}$. These will each be fed through the forward pass of the classifier, which will give an output vector of size 1xV, representing the probability distribution of predicting the next word over our entire vocabulary. The error for each iteration in training will be the sum of the errors for all context words. We do the backward propagation, and once the weights have been updated, we move to the next timestep and shift our target word to be the next word in the sequence ($w_{t+1}$), and repeat the training steps; for each timestep, we run the forward pass, find the error, and do backpropagation.\n",
    "\n",
    "Once we complete training, our CBOW embeddings will be the weights we have learned. The weight matrix is of size VxE, where E is the size of the embeddings we want to learn. Thus we have V vectors each of length E, meaning that for each word in our vocabulary, we've created an embedding of length E.\n",
    "\n",
    "### 2. What is a CBOW word embedding and how is it different from a skip-gram word embedding?\n",
    "\n",
    "A CBOW word embedding is an embedding created using the CBOW algorithm - namely, embeddings learned by training a Neural Network to predict some target given some number of neighboring context words. This is very similar to the skip-gram method for generating word embeddings. The main difference is that, during the prediction task, CBOW tries to predict the target word given some neighboring context words, while skip-gram tries to predict the context words given a target word.\n",
    "\n",
    "### 3. What is the task that the authors use to evaluate the generated word embeddings?\n",
    "\n",
    "They tested that the word embeddings preserved the linear relationships between words; ideally, they wanted to have __vector(\"King\") - vector(\"Man\") + vector(\"Woman\") = vector(\"Queen\")__. They tested this by creating a large test set of 5 types of semtantic relationships and 9 types of syntactic questions. This was done by manually creating a list of word pairs, for example __(Athens, Greece)__ or __(great, greater)__. Then, each of these word pairs was connected to another word word pair in the same syntactic/semantic category, and the evaluation task consisted of seeing if the embeddings could accurately predict the second word in the second pair, given the relationship computed from the first pair. For example, given __(Athens, Greece)__ $\\to$ __(Oslo, Norway)__, they computed the vectors for each of the first 3 words, did the vector math, and saw whether the result was the correct last word: __vector(Athens) - vector(Greece) + vector(Oslo) =? vector(Norway)__.\n",
    "\n",
    "### 4. What are PCA and t-SNE? Why are these important to the task of training and interpreting word embeddings?\n",
    "\n",
    "PCA (or Principal Component Analysis) is a method of finding the set of dimensions in a vector space which maximizes the variance in each dimension. This is done by taking linear combinations of our other features to try to find the first PC dimension which maximizes the variance of our data. Then, each subsequent PCA dimension is calculated using the same method, with the added condition that the new dimension must be orthogonal to all other PC dimensions. This effectively is a way of projecting the data from $\\mathbb{R}^{N} \\to \\mathbb{R}^{N}$, where the new vector space's axes are sorted in order of \"importance\" or information. To use PCA to visualize word embeddings, we can run PCA on our embedding space, and then take the first 2 or 3 PCA dimensions and use them to visualize our embeddings in a 2 or 3 dimensional space.\n",
    "\n",
    "On the other hand, t-SNE is a method for visualizing high-dimensional data while also trying to avoid the \"curse of dimensionality\". When our data lives in high-dimensional vector spaces, simply projecting the space onto a 2 or 3 dimensional plane will cause our data to overcrowd. This makes it very hard to see clusters or any other meaningful relationship between the data. t-SNE solves this problem by modeling the distribution of points in the high-dimensional space, and then re-creating that distribution in a lower dimensional space. The points in 2-d are sampled according to the distribution, meaning that the user of t-SNE gets to control how many points are sampled. This will avoid the overcrowding problem and will still allow us to visualize our high-dimensional data.\n",
    "\n",
    "PCA and t-SNE are important in training and interpreting word embeddings because they provide a human-interpretable view on generated vector embeddings, which are otherwise long lists of numbers with no inherent semantic meaning to the human eye. Projecting vector embeddings into smaller-dimensional space would potentially reveal clusters in 2 or 3 dimensions which will allow us to visually inspect the quality of our embeddings: does each cluster contain words that we as humans would consider \"similar\"?"
   ]
  },
  {
   "cell_type": "markdown",
   "metadata": {},
   "source": [
    "Step 2: Train your own word embeddings\n",
    "--------------------------------\n",
    "\n",
    "# The Spooky Author Dataset\n",
    "\n",
    "We first examine the aptly named Spooky Authors dataset. This is a compilation of works from Edgar Allan Poe, H.P. Lovecraft, and Mary Shelley, and can be accessed on Kaggle [here](https://www.kaggle.com/c/spooky-author-identification/overview). \n",
    "\n",
    "# Our Dataset: [insert]\n",
    "\n",
    "__Describe what data set you have chosen to compare and contrast with the Spooky Authors Dataset. Make sure to describe where it comes from and it's general properties.__\n",
    "\n",
    "__(describe your dataset here)__"
   ]
  },
  {
   "cell_type": "code",
   "execution_count": 1,
   "metadata": {
    "ExecuteTime": {
     "end_time": "2020-10-24T03:27:00.340250Z",
     "start_time": "2020-10-24T03:26:59.570883Z"
    }
   },
   "outputs": [],
   "source": [
    "# Imports\n",
    "import csv\n",
    "import re\n",
    "import numpy as np\n",
    "import matplotlib.pyplot as plt\n",
    "from sklearn.decomposition import PCA\n",
    "from gensim.models import Word2Vec\n",
    "from MulticoreTSNE import MulticoreTSNE as TSNE\n",
    "\n",
    "%matplotlib inline\n",
    "%load_ext wurlitzer\n",
    "\n",
    "# Some constants\n",
    "EMBEDDINGS_SIZE = 300\n",
    "SPOOKY_DATA_PATH_TEST = \"./data_files/spooky_test.csv\"\n",
    "SPOOKY_DATA_PATH_TRAIN = \"./data_files/spooky_train.csv\""
   ]
  },
  {
   "cell_type": "code",
   "execution_count": 2,
   "metadata": {},
   "outputs": [],
   "source": [
    "# Read in the data\n",
    "with open(SPOOKY_DATA_PATH_TRAIN, newline='') as f:\n",
    "    reader = csv.reader(f)\n",
    "    reader.__next__()  # skip the column names \n",
    "    train = [row[1] for row in reader]  # Take only the text data\n",
    "    \n",
    "with open(SPOOKY_DATA_PATH_TEST, newline='') as f:\n",
    "    reader = csv.reader(f)\n",
    "    reader.__next__()  # skip the column names\n",
    "    test = [row[1] for row in reader]  # Take only the text data\n",
    "    \n",
    "# Use all the data\n",
    "sentences = train + test"
   ]
  },
  {
   "cell_type": "markdown",
   "metadata": {},
   "source": [
    "Data Pre-processing\n",
    "--------------------------------\n",
    "\n",
    "Describe []"
   ]
  },
  {
   "cell_type": "code",
   "execution_count": 3,
   "metadata": {},
   "outputs": [],
   "source": [
    "# Data pre-processing/cleaning\n",
    "\n",
    "# Lowercases all words, removes punctuation, \n",
    "# and replaces all instances of a number with NUMBER_TOKEN\n",
    "def clean_data(sentences):\n",
    "    regex_punctuation = r'[.,;:/\\\\\\(\\)\\[\\]!?<>]'\n",
    "    regex_numbers = r'[0-9]'\n",
    "    \n",
    "    output = []\n",
    "    \n",
    "    for sent in sentences:\n",
    "        tmp = sent.lower()\n",
    "        tmp = re.sub(regex_punctuation, '', tmp)\n",
    "        tmp = re.sub(regex_numbers, '', tmp)\n",
    "        output.append(tmp)\n",
    "    \n",
    "    return output\n",
    "\n",
    "sentences = clean_data(sentences)\n",
    "sentences_listed = [sentence.split() for sentence in sentences]"
   ]
  },
  {
   "cell_type": "code",
   "execution_count": 4,
   "metadata": {},
   "outputs": [
    {
     "name": "stdout",
     "output_type": "stream",
     "text": [
      "Total sentences: 27971\n",
      "Average sentence length: 26.63 words\n",
      "Total number of words: 744881\n",
      "Average word length 4.495 characters\n",
      "Vocabulary size: 31851\n"
     ]
    }
   ],
   "source": [
    "# Data exploration\n",
    "\n",
    "# Prints some basic statistics about our dataset:\n",
    "# 1. Total Number of Sentences\n",
    "# 2. Average Sentence Length in Words\n",
    "# 3. Total Number of Words\n",
    "# 4. Average Word Length in Characters\n",
    "# 5. Vocabulary Size\n",
    "# (The function returns the list of all words in the dataset)\n",
    "def print_dataset_statistics(sentences):\n",
    "    num_sentences = len(sentences)\n",
    "    avg_sent_length = np.mean([len(sent.split()) for sent in sentences])\n",
    "    all_words = []\n",
    "    for sent in sentences:\n",
    "        all_words.extend(sent.split())\n",
    "    avg_word_length = np.mean([len(word) for word in all_words])\n",
    "    num_words = len(all_words)\n",
    "    vocab_size = len(set(all_words))\n",
    "    \n",
    "    print(f\"Total sentences: {num_sentences}\")\n",
    "    print(f\"Average sentence length: {round(avg_sent_length, 3)} words\")\n",
    "    print(f\"Total number of words: {num_words}\")\n",
    "    print(f\"Average word length {round(avg_word_length, 3)} characters\")\n",
    "    print(f\"Vocabulary size: {vocab_size}\")\n",
    "    \n",
    "    return all_words\n",
    "\n",
    "\n",
    "all_words = print_dataset_statistics(sentences)"
   ]
  },
  {
   "cell_type": "markdown",
   "metadata": {},
   "source": [
    "### a) Train embedding on GIVEN dataset"
   ]
  },
  {
   "cell_type": "code",
   "execution_count": 18,
   "metadata": {
    "ExecuteTime": {
     "end_time": "2020-10-24T04:39:25.438770Z",
     "start_time": "2020-10-24T04:39:24.888507Z"
    }
   },
   "outputs": [
    {
     "name": "stdout",
     "output_type": "stream",
     "text": [
      "<class 'gensim.models.keyedvectors.Word2VecKeyedVectors'>\n",
      "<class 'dict'>\n",
      "Word most similar to 'king': princess\n",
      "Word most similar to 'horse': coat\n",
      "Word most similar to 'man': woman\n",
      "King - Man + Woman: princess\n"
     ]
    }
   ],
   "source": [
    "# Create the embeddings, save the vectors, toss the model\n",
    "model = Word2Vec(sentences=sentences_listed, size=EMBEDDINGS_SIZE, sg=1, window=5, min_count=1)\n",
    "spooky_embeddings = model.wv\n",
    "del model"
   ]
  },
  {
   "cell_type": "code",
   "execution_count": 27,
   "metadata": {},
   "outputs": [
    {
     "name": "stdout",
     "output_type": "stream",
     "text": [
      "Word most similar to 'king': princess\n",
      "Word most similar to 'horse': coat\n",
      "Word most similar to 'man': woman\n",
      "King - Man + Woman: princess\n",
      "Was the model able to distinguish 'peasant' from food? True\n",
      "Was the model able to distinguish 'favorite' from weekdays? True\n"
     ]
    }
   ],
   "source": [
    "# This function prints some quick similarities and comparisons for the given embeddings\n",
    "def quick_evaluate_embeddings(embeddings):\n",
    "    \n",
    "    similar_to_king = spooky_embeddings.most_similar('king')[0][0]\n",
    "    similar_to_horse = spooky_embeddings.most_similar('horse')[0][0]\n",
    "    similar_to_man = spooky_embeddings.most_similar('man')[0][0]\n",
    "    king_minus_man_plus_woman = spooky_embeddings.most_similar(positive=['king', 'woman'], negative=['man'])[0][0]\n",
    "    odd_one_out_food = spooky_embeddings.doesnt_match(('bread', 'meat', 'vegetables', 'peasant'))\n",
    "    odd_one_out_days = spooky_embeddings.doesnt_match(('monday', 'wednesday', 'friday', 'favorite'))\n",
    "\n",
    "    print(f\"Word most similar to 'king': {similar_to_king}\")\n",
    "    print(f\"Word most similar to 'horse': {similar_to_horse}\")\n",
    "    print(f\"Word most similar to 'man': {similar_to_man}\")\n",
    "    print(f\"King - Man + Woman: {king_minus_man_plus_woman}\")\n",
    "    print(f\"Was the model able to distinguish 'peasant' from food? {odd_one_out_food is 'peasant'}\")\n",
    "    print(f\"Was the model able to distinguish 'favorite' from weekdays? {odd_one_out_days is 'favorite'}\")\n",
    "    \n",
    "\n",
    "quick_evaluate_embeddings(spooky_embeddings)"
   ]
  },
  {
   "cell_type": "code",
   "execution_count": 15,
   "metadata": {},
   "outputs": [
    {
     "name": "stdout",
     "output_type": "stream",
     "text": [
      "Original shape of the matrix: (31851, 300)\n",
      "New shape of the matrix: (31851, 50)\n",
      "Cumulative explained variance of first 50 PC dimensions: 99.29999709129333%\n"
     ]
    },
    {
     "name": "stderr",
     "output_type": "stream",
     "text": [
      "Performing t-SNE using 1 cores.\n",
      "Using no_dims = 2, perplexity = 45.000000, and theta = 0.500000\n",
      "Computing input similarities...\n",
      "Building tree...\n",
      " - point 3185 of 31851\n",
      " - point 6370 of 31851\n",
      " - point 9555 of 31851\n",
      " - point 12740 of 31851\n",
      " - point 15925 of 31851\n",
      " - point 19110 of 31851\n",
      " - point 22295 of 31851\n",
      " - point 25480 of 31851\n",
      " - point 28665 of 31851\n",
      " - point 31850 of 31851\n",
      "Done in 9.00 seconds (sparsity = 0.006699)!\n",
      "Learning embedding...\n",
      "Iteration 51: error is 104.302569 (50 iterations in 17.00 seconds)\n",
      "Iteration 101: error is 94.891070 (50 iterations in 15.00 seconds)\n",
      "Iteration 151: error is 90.898851 (50 iterations in 15.00 seconds)\n",
      "Iteration 201: error is 89.874025 (50 iterations in 17.00 seconds)\n",
      "Iteration 251: error is 89.468913 (50 iterations in 19.00 seconds)\n",
      "Iteration 301: error is 3.896709 (50 iterations in 14.00 seconds)\n",
      "Iteration 351: error is 3.631698 (50 iterations in 16.00 seconds)\n",
      "Iteration 401: error is 3.478863 (50 iterations in 12.00 seconds)\n",
      "Iteration 451: error is 3.374528 (50 iterations in 12.00 seconds)\n",
      "Iteration 500: error is 3.298539 (50 iterations in 12.00 seconds)\n",
      "Fitting performed in 149.00 seconds.\n"
     ]
    },
    {
     "data": {
      "image/png": "[encoded data removed]",
      "text/plain": [
       "<Figure size 432x288 with 1 Axes>"
      ]
     },
     "metadata": {
      "needs_background": "light"
     },
     "output_type": "display_data"
    }
   ],
   "source": [
    "# Visualize the embeddings\n",
    "\n",
    "# This is the V x E matrix; the full-length embedding for each vocab word\n",
    "# Each unique word $w_{i}$ represents the row $V_{i}$\n",
    "# Each row is a vector of length E which corresponds to that word's embedding \n",
    "X = spooky_embeddings[spooky_embeddings.vocab]\n",
    "print(f\"Original shape of the matrix: {X.shape}\")  # (31851, 300)\n",
    "\n",
    "\n",
    "# We first run PCA and keep the first num_components dimensions before we pass into t-SNE\n",
    "num_components = 50\n",
    "random_seed = 100\n",
    "\n",
    "pca = PCA(n_components=num_components)\n",
    "X = pca.fit_transform(X)\n",
    "print(f\"New shape of the matrix: {X.shape}\")  # (31851, 50)\n",
    "\n",
    "# Since we ran PCA and kept only the first few dimensions, we want to know how much\n",
    "# of the original information is still preserved in this projection. The concept of\n",
    "# \"explained variance\" is helpful here. Our original 300-dimensional vector space has \n",
    "# a certain amount of variance among the data. This is our \"total variance\". When we \n",
    "# project to 50 dimensions, we lose some of that variance, since we lose dimensions along\n",
    "# which our data can vary. We calculate the total amount of variance in our 50-dimensional\n",
    "# space and divide that number by our total variance. This yields the amount of variance \n",
    "# preserved after our projection. So while our data might not have __all__ of the original\n",
    "# variance, we can still see that it has a significant percentage of the total variance, and\n",
    "# so we only lose a small amount of information while reducing our space a lot. Thanks PCA!\n",
    "print(f\"Cumulative explained variance of first {num_components} PC dimensions: {100 * round(np.sum(pca.explained_variance_ratio_), 3)}%\")\n",
    "\n",
    "\n",
    "# Now we run t-SNE to visualize the clusters\n",
    "tsne = TSNE(n_components=2, perplexity=45, verbose=True, random_state=random_seed, n_iter=500)\n",
    "X_embedded = tsne.fit_transform(X)\n",
    "\n",
    "vis_x = X_embedded[:, 0]\n",
    "vis_y = X_embedded[:, 1]\n",
    "plt.scatter(vis_x, vis_y, marker='.')\n",
    "plt.show()"
   ]
  },
  {
   "cell_type": "markdown",
   "metadata": {},
   "source": [
    "What text-normalization and pre-processing did you do and why? __YOUR ANSWER HERE__"
   ]
  },
  {
   "cell_type": "markdown",
   "metadata": {},
   "source": [
    "Step 3: Evaluate the differences between the word embeddings\n",
    "----------------------------\n",
    "\n",
    "(make sure to include graphs, figures, and paragraphs with full sentences)"
   ]
  },
  {
   "cell_type": "markdown",
   "metadata": {},
   "source": [
    "Cite your sources:\n",
    "-------------"
   ]
  },
  {
   "cell_type": "markdown",
   "metadata": {},
   "source": [
    "Step 4: Feedforward Neural Language Model\n",
    "--------------------------"
   ]
  },
  {
   "cell_type": "markdown",
   "metadata": {},
   "source": [
    "### a) First, encode  your text into integers"
   ]
  },
  {
   "cell_type": "code",
   "execution_count": 7,
   "metadata": {
    "ExecuteTime": {
     "end_time": "2020-10-26T21:39:09.625031Z",
     "start_time": "2020-10-26T21:39:09.009109Z"
    }
   },
   "outputs": [],
   "source": [
    "# Importing utility functions from Keras\n",
    "from keras.preprocessing.text import Tokenizer\n",
    "from keras.utils import to_categorical\n",
    "from keras.models import Sequential\n",
    "from keras.layers import Dense\n",
    "from keras.layers import SimpleRNN\n",
    "from keras.layers import Embedding\n",
    "\n",
    "NGRAM = 4 # The size of the ngram language model you want to train\n",
    "\n",
    "# Initializing a Tokenizer\n",
    "# It is used to vectorize a text corpus. Here, it just creates a mapping from \n",
    "# word to a unique index. (Note: Indexing starts from 0)\n",
    "# Example:\n",
    "tokenizer = Tokenizer()\n",
    "tokenizer.fit_on_texts(data)\n",
    "encoded = tokenizer.texts_to_sequences(data)\n",
    "\n",
    "# Make sure to include the padding token in your vocabulary size"
   ]
  },
  {
   "cell_type": "code",
   "execution_count": null,
   "metadata": {
    "ExecuteTime": {
     "end_time": "2020-10-24T03:27:54.373208Z",
     "start_time": "2020-10-24T03:27:54.369835Z"
    }
   },
   "outputs": [],
   "source": []
  },
  {
   "cell_type": "markdown",
   "metadata": {},
   "source": [
    "### b) Next, prepare your sequences from text"
   ]
  },
  {
   "cell_type": "markdown",
   "metadata": {},
   "source": [
    "#### Fixed ngram based sequences (Used for Feedforward)"
   ]
  },
  {
   "cell_type": "raw",
   "metadata": {},
   "source": [
    "The training samples will be structured in the following format. \n",
    "Depening on which ngram model we choose, there will be (n-1) tokens \n",
    "in the input sequence (X) and we will need to predict the nth token (Y)\n",
    "\n",
    "            X,\t\t\t\t\t\t  y\n",
    "    this,    process               however\n",
    "    process, however               afforded\n",
    "    however, afforded\t           me"
   ]
  },
  {
   "cell_type": "code",
   "execution_count": 8,
   "metadata": {
    "ExecuteTime": {
     "end_time": "2020-10-24T05:21:28.039381Z",
     "start_time": "2020-10-24T05:21:24.941885Z"
    }
   },
   "outputs": [],
   "source": [
    "def generate_ngram_training_samples():\n",
    "    '''\n",
    "    Takes the encoded data (list of lists) and generates the training samples \n",
    "    out of it.\n",
    "    Parameters:\n",
    "    up to you!\n",
    "    return: list of lists in the format [[x1, x2, ... , x(n-1), y], ...]\n",
    "    '''\n",
    "    pass\n"
   ]
  },
  {
   "cell_type": "markdown",
   "metadata": {},
   "source": [
    "### c) Then, split the sequences into X and y and create a Data Generator"
   ]
  },
  {
   "cell_type": "code",
   "execution_count": 9,
   "metadata": {
    "ExecuteTime": {
     "end_time": "2020-10-24T05:21:31.213422Z",
     "start_time": "2020-10-24T05:21:31.061759Z"
    }
   },
   "outputs": [],
   "source": [
    "# Note here that the sequences were in the form: \n",
    "# sequence = [x1, x2, ... , x(n-1), y]\n",
    "# We still need to separate it into [[x1, x2, ... , x(n-1)], ...], [y1, y2, ...]"
   ]
  },
  {
   "cell_type": "code",
   "execution_count": 10,
   "metadata": {
    "ExecuteTime": {
     "end_time": "2020-10-24T05:21:34.675827Z",
     "start_time": "2020-10-24T05:21:33.315288Z"
    }
   },
   "outputs": [],
   "source": [
    "def read_embeddings():\n",
    "    '''Loads and parses embeddings trained in earlier.'''\n",
    "    \n",
    "    # you may find generating the following two dicts useful:\n",
    "    # word to embedding : {'the':1, ...}\n",
    "    # index to embedding : {1:'the', ...} (inverse of word_2_embedding)\n",
    "    pass\n",
    "\n",
    "\n",
    "# remember that \"0\" index is assigned for padding token. \n",
    "# Hence, initialize the vector for padding token as all zeros of embedding size"
   ]
  },
  {
   "cell_type": "code",
   "execution_count": 11,
   "metadata": {
    "ExecuteTime": {
     "end_time": "2020-10-24T05:22:24.016237Z",
     "start_time": "2020-10-24T05:22:24.011220Z"
    }
   },
   "outputs": [],
   "source": [
    "def data_generator(X, y, num_sequences_per_batch):\n",
    "    '''\n",
    "    Returns data generator to be used by feed_forward\n",
    "    https://wiki.python.org/moin/Generators\n",
    "    https://realpython.com/introduction-to-python-generators/\n",
    "    \n",
    "    Yields batches of embeddings and labels to go with them.\n",
    "    Use one hot vectors to encode the labels (see the to_categorical function)\n",
    "    \n",
    "    '''\n",
    "    pass\n",
    "\n"
   ]
  },
  {
   "cell_type": "code",
   "execution_count": 12,
   "metadata": {
    "ExecuteTime": {
     "end_time": "2020-10-24T05:22:55.470133Z",
     "start_time": "2020-10-24T05:22:55.398259Z"
    }
   },
   "outputs": [],
   "source": [
    "# Examples\n",
    "# initialize data_generator\n",
    "# num_sequences_per_batch = 1024 # or Batch Size\n",
    "# steps_per_epoch = len(sequences)//num_sequences_per_batch  # Number of batches per epoch\n",
    "# train_generator = data_generator(X, y, num_sequences_per_batch)\n",
    "\n",
    "# sample=next(train_generator) # this is how you get data out of generators\n",
    "# sample[0].shape # (batch_size, (n-1)*EMBEDDING_SIZE)"
   ]
  },
  {
   "cell_type": "markdown",
   "metadata": {},
   "source": [
    "### d) Train your models"
   ]
  },
  {
   "cell_type": "code",
   "execution_count": null,
   "metadata": {
    "ExecuteTime": {
     "end_time": "2020-10-24T04:56:19.207252Z",
     "start_time": "2020-10-24T04:56:19.204894Z"
    }
   },
   "outputs": [],
   "source": []
  },
  {
   "cell_type": "code",
   "execution_count": 13,
   "metadata": {
    "ExecuteTime": {
     "end_time": "2020-10-24T03:56:50.919869Z",
     "start_time": "2020-10-24T03:56:50.779792Z"
    }
   },
   "outputs": [],
   "source": [
    "# code to train a feedforward neural language model \n",
    "# on a set of given word embeddings\n",
    "# make sure not to just copy + paste to train your two \n",
    "\n",
    "# Defining the model architecture using Keras Sequential API\n"
   ]
  },
  {
   "cell_type": "code",
   "execution_count": 14,
   "metadata": {
    "ExecuteTime": {
     "end_time": "2020-10-24T04:01:50.757170Z",
     "start_time": "2020-10-24T03:56:53.620836Z"
    }
   },
   "outputs": [
    {
     "ename": "NameError",
     "evalue": "name 'model' is not defined",
     "output_type": "error",
     "traceback": [
      "\u001b[0;31m---------------------------------------------------------------------------\u001b[0m",
      "\u001b[0;31mNameError\u001b[0m                                 Traceback (most recent call last)",
      "\u001b[0;32m<ipython-input-14-d5fb65f744d9>\u001b[0m in \u001b[0;36m<module>\u001b[0;34m\u001b[0m\n\u001b[1;32m      1\u001b[0m \u001b[0;31m# Start training the model\u001b[0m\u001b[0;34m\u001b[0m\u001b[0;34m\u001b[0m\u001b[0;34m\u001b[0m\u001b[0m\n\u001b[0;32m----> 2\u001b[0;31m model.fit_generator(train_generator, \n\u001b[0m\u001b[1;32m      3\u001b[0m                     \u001b[0msteps_per_epoch\u001b[0m\u001b[0;34m=\u001b[0m\u001b[0msteps_per_epoch\u001b[0m\u001b[0;34m,\u001b[0m\u001b[0;34m\u001b[0m\u001b[0;34m\u001b[0m\u001b[0m\n\u001b[1;32m      4\u001b[0m                     epochs=1)\n",
      "\u001b[0;31mNameError\u001b[0m: name 'model' is not defined"
     ]
    }
   ],
   "source": [
    "# Start training the model\n",
    "model.fit_generator(train_generator, \n",
    "                    steps_per_epoch=steps_per_epoch,\n",
    "                    epochs=1)"
   ]
  },
  {
   "cell_type": "code",
   "execution_count": null,
   "metadata": {},
   "outputs": [],
   "source": []
  },
  {
   "cell_type": "code",
   "execution_count": null,
   "metadata": {},
   "outputs": [],
   "source": []
  },
  {
   "cell_type": "markdown",
   "metadata": {},
   "source": [
    "### e) Generate Sentences"
   ]
  },
  {
   "cell_type": "code",
   "execution_count": null,
   "metadata": {
    "ExecuteTime": {
     "end_time": "2020-10-24T04:13:54.425934Z",
     "start_time": "2020-10-24T04:13:54.418616Z"
    }
   },
   "outputs": [],
   "source": [
    "# generate a sequence from the model\n",
    "def generate_seq(model, tokenizer, seed, n_words):\n",
    "    '''\n",
    "    Parameters:\n",
    "        model: your neural network\n",
    "        tokenizer: the keras preprocessing tokenizer\n",
    "        seed: [w1, w2, w(n-1)]\n",
    "        n_words: generate a sentence of length n_words\n",
    "    Returns: string sentence\n",
    "    '''\n",
    "    pass"
   ]
  },
  {
   "cell_type": "code",
   "execution_count": null,
   "metadata": {
    "ExecuteTime": {
     "end_time": "2020-10-24T04:14:13.123529Z",
     "start_time": "2020-10-24T04:14:13.000264Z"
    }
   },
   "outputs": [],
   "source": []
  },
  {
   "cell_type": "markdown",
   "metadata": {},
   "source": [
    "### f) Compare your generated sentences"
   ]
  },
  {
   "cell_type": "code",
   "execution_count": null,
   "metadata": {},
   "outputs": [],
   "source": []
  },
  {
   "cell_type": "markdown",
   "metadata": {},
   "source": [
    "Sources Cited\n",
    "----------------------------\n"
   ]
  },
  {
   "cell_type": "code",
   "execution_count": null,
   "metadata": {},
   "outputs": [],
   "source": []
  }
 ],
 "metadata": {
  "kernelspec": {
   "display_name": "Python 3",
   "language": "python",
   "name": "python3"
  },
  "language_info": {
   "codemirror_mode": {
    "name": "ipython",
    "version": 3
   },
   "file_extension": ".py",
   "mimetype": "text/x-python",
   "name": "python",
   "nbconvert_exporter": "python",
   "pygments_lexer": "ipython3",
   "version": "3.7.4"
  }
 },
 "nbformat": 4,
 "nbformat_minor": 4
}
