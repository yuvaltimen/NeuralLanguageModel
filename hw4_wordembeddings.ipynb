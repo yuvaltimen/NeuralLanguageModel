{
 "cells": [
  {
   "cell_type": "markdown",
   "metadata": {},
   "source": [
    "# Homework 4: Word Embeddings and Neural Language Models\n",
    "\n",
    "\n",
    "Names: __Suzanne Becker, Yuval Timen__"
   ]
  },
  {
   "cell_type": "markdown",
   "metadata": {},
   "source": [
    "Step 1: Word2Vec paper questions\n",
    "---------------------------\n",
    "\n",
    "### 1. Describe how a CBOW word embedding is generated.\n",
    "\n",
    "A CBOW word embedding can be created by using the CBOW algorithm. This would consist of training a classifier to predict a target word given some context words, and taking the weights of the trained classifier to be the embeddings. Specifically, given the sequence of length M $w_{0} ... w_{M}$ and a window size N, we would first create one-hot vectors for each word in the sequence. These will be used as inputs to the classifier. Then for each time step $t$, we will be trying to predict the word $w_{t}$ given the context words within the N-sized window. We take the N words from either side of $w_{t}$, namely $w_{t-N}...w_{t+N}$ excluding $w_{t}$. These will each be fed through the forward pass of the classifier, which will give an output vector of size 1xV, representing the probability distribution of predicting the next word over our entire vocabulary. The error for each iteration in training will be the sum of the errors for all context words. We do the backward propagation, and once the weights have been updated, we move to the next timestep and shift our target word to be the next word in the sequence ($w_{t+1}$), and repeat the training steps; for each timestep, we run the forward pass, find the error, and do backpropagation.\n",
    "\n",
    "Once we complete training, our CBOW embeddings will be the weights we have learned. The weight matrix is of size VxE, where E is the size of the embeddings we want to learn. Thus we have V vectors each of length E, meaning that for each word in our vocabulary, we've created an embedding of length E.\n",
    "\n",
    "(We drew from source #2 to get a better understanding of how CBOW embeddings are created.)\n",
    "\n",
    "### 2. What is a CBOW word embedding and how is it different from a skip-gram word embedding?\n",
    "\n",
    "A CBOW word embedding is an embedding created using the CBOW algorithm - namely, embeddings learned by training a Neural Network to predict some target given some number of neighboring context words. This is very similar to the skip-gram method for generating word embeddings. The main difference is that, during the prediction task, CBOW tries to predict the target word given some neighboring context words, while skip-gram tries to predict the context words given a target word.\n",
    "\n",
    "(this answer is also informed by source #2)\n",
    "\n",
    "### 3. What is the task that the authors use to evaluate the generated word embeddings?\n",
    "\n",
    "They tested that the word embeddings preserved the linear relationships between words; ideally, they wanted to have __vector(\"King\") - vector(\"Man\") + vector(\"Woman\") = vector(\"Queen\")__. They tested this by creating a large test set of 5 types of semtantic relationships and 9 types of syntactic questions. This was done by manually creating a list of word pairs, for example __(Athens, Greece)__ or __(great, greater)__. Then, each of these word pairs was connected to another word word pair in the same syntactic/semantic category, and the evaluation task consisted of seeing if the embeddings could accurately predict the second word in the second pair, given the relationship computed from the first pair. For example, given __(Athens, Greece)__ $\\to$ __(Oslo, Norway)__, they computed the vectors for each of the first 3 words, did the vector math, and saw whether the result was the correct last word: __vector(Athens) - vector(Greece) + vector(Oslo) =? vector(Norway)__.\n",
    "\n",
    "(We referenced \n",
    "\n",
    "### 4. What are PCA and t-SNE? Why are these important to the task of training and interpreting word embeddings?\n",
    "\n",
    "PCA (or Principal Component Analysis) is a method of finding the set of dimensions in a vector space which maximizes the variance in each dimension. This is done by taking linear combinations of our other features to try to find the first PC dimension which maximizes the variance of our data. Then, each subsequent PCA dimension is calculated using the same method, with the added condition that the new dimension must be orthogonal to all other PC dimensions. This effectively is a way of projecting the data from $\\mathbb{R}^{N} \\to \\mathbb{R}^{N}$, where the new vector space's axes are sorted in order of \"importance\" or information. To use PCA to visualize word embeddings, we can run PCA on our embedding space, and then take the first 2 or 3 PCA dimensions and use them to visualize our embeddings in a 2 or 3 dimensional space.\n",
    "\n",
    "On the other hand, t-SNE is a method for visualizing high-dimensional data while also trying to avoid the \"curse of dimensionality\". When our data lives in high-dimensional vector spaces, simply projecting the space onto a 2 or 3 dimensional plane will cause our data to overcrowd. This makes it very hard to see clusters or any other meaningful relationship between the data. t-SNE solves this problem by modeling the distribution of points in the high-dimensional space, and then re-creating that distribution in a lower dimensional space. The points in 2-d are sampled according to the distribution, meaning that the user of t-SNE gets to control how many points are sampled. This will avoid the overcrowding problem and will still allow us to visualize our high-dimensional data.\n",
    "\n",
    "PCA and t-SNE are important in training and interpreting word embeddings because they provide a human-interpretable view on generated vector embeddings, which are otherwise long lists of numbers with no inherent semantic meaning to the human eye. Projecting vector embeddings into smaller-dimensional space would potentially reveal clusters in 2 or 3 dimensions which will allow us to visually inspect the quality of our embeddings: does each cluster contain words that we as humans would consider \"similar\"?"
   ]
  },
  {
   "cell_type": "markdown",
   "metadata": {},
   "source": [
    "Step 2: Train your own word embeddings\n",
    "--------------------------------\n",
    "\n",
    "# The Spooky Author Dataset\n",
    "\n",
    "We first examine the aptly named Spooky Authors dataset. This is a compilation of works from Edgar Allan Poe, H.P. Lovecraft, and Mary Shelley, and can be accessed on Kaggle [here](https://www.kaggle.com/c/spooky-author-identification/overview). Since we will be dealing with embeddings (ie. contexts of words), the connotation of the data is important to consider. We expect to be seeing 'spooky' bias in the embeddings to some extent. \n",
    "\n",
    "# Our Dataset: Collected works of Nietzsche\n",
    "\n",
    "__Describe what data set you have chosen to compare and contrast with the Spooky Authors Dataset. Make sure to describe where it comes from and its general properties.__\n",
    "\n",
    "We chose to work with the writings of Friedrich Nietzsche, a prolific philosopher and author. We downloaded a collection of his publications from [Project Gutenberg](https://www.gutenberg.org/ebooks/author/779). Altogether, there are over 893,000 words in the corpus we collected. Nietzsche wrote a lot about human nature, life, and society, so we would expect to see greater representation of words related to being, speaking, thinking, and social organization and structure. As a philosopher, he also questions the nature of our existence and the world we have created, so his writing will also probably include more sentences structured as questions. \n",
    "\n",
    "After downloading 14 of Nietzsche's books, we manually removed the preface metadata and any prefacing information that was not part of the original text. Then, we wrote a Python script to do the following: \n",
    "* programmatically remove \"footer\" text (Project Gutenberg books all end with something like \"*** End of this Project Gutenberg book...\")\n",
    "* remove chapter headings containing \"Chapter\", digits, or Roman numerals, using a regex \n",
    "* split the text into sentences and compile all sentences from all books into a single document, `nietzsche_sentences.txt`"
   ]
  },
  {
   "cell_type": "code",
   "execution_count": 24,
   "metadata": {
    "ExecuteTime": {
     "end_time": "2020-10-24T03:27:00.340250Z",
     "start_time": "2020-10-24T03:26:59.570883Z"
    }
   },
   "outputs": [
    {
     "name": "stdout",
     "output_type": "stream",
     "text": [
      "The wurlitzer extension is already loaded. To reload it, use:\n",
      "  %reload_ext wurlitzer\n"
     ]
    }
   ],
   "source": [
    "# Imports\n",
    "import csv\n",
    "import re\n",
    "import numpy as np\n",
    "import matplotlib.pyplot as plt\n",
    "from sklearn.decomposition import PCA\n",
    "from gensim.models import Word2Vec\n",
    "# This is a faster implementation of TSNE that Yuval found \n",
    "from MulticoreTSNE import MulticoreTSNE as TSNE\n",
    "\n",
    "%matplotlib inline\n",
    "%load_ext wurlitzer\n",
    "\n",
    "# Some constants\n",
    "EMBEDDINGS_SIZE = 300\n",
    "SPOOKY_DATA_PATH_TEST = \"./data_files/spooky_test.csv\"\n",
    "SPOOKY_DATA_PATH_TRAIN = \"./data_files/spooky_train.csv\"\n",
    "NIETZSCHE_DATA_PATH = \"./data_files/nietzsche_sentences.txt\""
   ]
  },
  {
   "cell_type": "code",
   "execution_count": 25,
   "metadata": {},
   "outputs": [],
   "source": [
    "# Read in the data\n",
    "with open(SPOOKY_DATA_PATH_TRAIN, newline='') as f:\n",
    "    reader = csv.reader(f)\n",
    "    reader.__next__()  # skip the column names \n",
    "    train = [row[1] for row in reader]  # Take only the text data\n",
    "    \n",
    "with open(SPOOKY_DATA_PATH_TEST, newline='') as f:\n",
    "    reader = csv.reader(f)\n",
    "    reader.__next__()  # skip the column names\n",
    "    test = [row[1] for row in reader]  # Take only the text data\n",
    "    \n",
    "# Use all the spooky data\n",
    "sentences_spooky = train + test\n",
    "\n",
    "\n",
    "# Read in the Nietzsche data\n",
    "with open(NIETZSCHE_DATA_PATH, 'r') as f:\n",
    "  # read the lines into a list\n",
    "  sentences_niet = [line.strip() for line in f]"
   ]
  },
  {
   "cell_type": "markdown",
   "metadata": {},
   "source": [
    "Data Pre-processing\n",
    "--------------------------------\n",
    "\n",
    "We first clean and then organize our data into a list-of-list-of strings. Each inner list represents a sentence. \n",
    "\n",
    "The input to the data cleaning step (`clean_data`) is a list of sentence strings. \n",
    "\n",
    "To clean a sentence, we first change it to entirely lowercase. Next, we remove all punctuation and numbers, replacing them with a whitespace. Then, we remove quotation marks and replace them with whitespace, being careful to preserve any single quotes that are part of contractions. \n",
    "\n",
    "After cleaning the sentence strings, we apply Python's .split() operator to each sentence in the list, resulting in a list of lists of words."
   ]
  },
  {
   "cell_type": "code",
   "execution_count": 26,
   "metadata": {},
   "outputs": [],
   "source": [
    "# Data pre-processing/cleaning\n",
    "\n",
    "# Lowercases all words, removes punctuation, \n",
    "# and replaces all instances of a number with whitespace\n",
    "def clean_data(sentences):\n",
    "    regex_punctuation = r'([.,;:_\"\\/\\\\\\(\\)\\[\\]!?<>]|--)'\n",
    "    regex_numbers = r'[0-9]'\n",
    "    \n",
    "    # Regexes matching a single quote that:\n",
    "    # - precedes a word \n",
    "    # - follows a word\n",
    "    # - is not next to a word\n",
    "    regex_single_quote_start = \"([^a-zA-Z])\\\\'([a-zA-Z])\"\n",
    "    regex_single_quote_end = \"([a-zA-Z])\\\\'([^a-zA-Z])\"\n",
    "    regex_single_quote_standalone = \"([^a-zA-Z])\\\\'([^a-zA-Z])\"\n",
    "    \n",
    "    output = []\n",
    "    \n",
    "    for sent in sentences:\n",
    "        tmp = sent.lower()\n",
    "        tmp = re.sub(regex_punctuation, ' ', tmp)\n",
    "        tmp = re.sub(regex_numbers, ' ', tmp)\n",
    "        tmp = re.sub(regex_single_quote_start, r'\\1 \\2', tmp)\n",
    "        tmp = re.sub(regex_single_quote_end, r'\\1 \\2', tmp)\n",
    "        tmp = re.sub(regex_single_quote_standalone, r'\\1 \\2', tmp)\n",
    "        output.append(tmp)\n",
    "    \n",
    "    return output\n",
    "\n",
    "sentences_spooky = clean_data(sentences_spooky)\n",
    "sentences_niet = clean_data(sentences_niet)\n",
    "\n",
    "# Turn each sentence into a list of words\n",
    "sentences_listed_spooky = [sentence.split() for sentence in sentences_spooky]\n",
    "sentences_listed_niet = [sentence.split() for sentence in sentences_niet]"
   ]
  },
  {
   "cell_type": "code",
   "execution_count": null,
   "metadata": {},
   "outputs": [],
   "source": []
  },
  {
   "cell_type": "markdown",
   "metadata": {},
   "source": [
    "Data Exploration & Statistics\n",
    "----------------------------------\n",
    "\n",
    "We generate some basic statistics about the two corpuses, such as sentence and word count, sentence and word length, and vocab size. "
   ]
  },
  {
   "cell_type": "code",
   "execution_count": 27,
   "metadata": {},
   "outputs": [
    {
     "name": "stdout",
     "output_type": "stream",
     "text": [
      "---Spooky dataset statistics---\n",
      "Total sentences: 27971\n",
      "Average sentence length: 26.633 words\n",
      "Total number of words: 744958\n",
      "Average word length 4.483 characters\n",
      "Vocabulary size: 29027\n",
      "\n",
      "---Nietzsche dataset statistics---\n",
      "Total sentences: 103741\n",
      "Average sentence length: 8.615 words\n",
      "Total number of words: 893702\n",
      "Average word length 4.647 characters\n",
      "Vocabulary size: 31371\n"
     ]
    }
   ],
   "source": [
    "# Data exploration\n",
    "\n",
    "# Prints some basic statistics about our dataset:\n",
    "# 1. Total Number of Sentences\n",
    "# 2. Average Sentence Length in Words\n",
    "# 3. Total Number of Words\n",
    "# 4. Average Word Length in Characters\n",
    "# 5. Vocabulary Size\n",
    "# (The function returns the list of all words in the dataset)\n",
    "def print_dataset_statistics(sentences):\n",
    "    num_sentences = len(sentences)\n",
    "    avg_sent_length = np.mean([len(sent.split()) for sent in sentences])\n",
    "    all_words = []\n",
    "    for sent in sentences:\n",
    "        all_words.extend(sent.split())\n",
    "    avg_word_length = np.mean([len(word) for word in all_words])\n",
    "    num_words = len(all_words)\n",
    "    vocab_size = len(set(all_words))\n",
    "    \n",
    "    print(f\"Total sentences: {num_sentences}\")\n",
    "    print(f\"Average sentence length: {round(avg_sent_length, 3)} words\")\n",
    "    print(f\"Total number of words: {num_words}\")\n",
    "    print(f\"Average word length {round(avg_word_length, 3)} characters\")\n",
    "    print(f\"Vocabulary size: {vocab_size}\")\n",
    "    \n",
    "    return all_words\n",
    "\n",
    "print(\"---Spooky dataset statistics---\")\n",
    "all_words_spooky = print_dataset_statistics(sentences_spooky)\n",
    "print(\"\\n---Nietzsche dataset statistics---\")\n",
    "all_words_niet = print_dataset_statistics(sentences_niet)"
   ]
  },
  {
   "cell_type": "markdown",
   "metadata": {},
   "source": [
    "### a) Train embedding on GIVEN dataset"
   ]
  },
  {
   "cell_type": "code",
   "execution_count": 30,
   "metadata": {
    "ExecuteTime": {
     "end_time": "2020-10-24T04:39:25.438770Z",
     "start_time": "2020-10-24T04:39:24.888507Z"
    }
   },
   "outputs": [],
   "source": [
    "# Create the embeddings, save the KeyedVector, toss the model\n",
    "model_spooky = Word2Vec(sentences=sentences_listed_spooky, size=EMBEDDINGS_SIZE, sg=1, window=5, min_count=1)\n",
    "spooky_embeddings = model_spooky.wv\n",
    "del model_spooky"
   ]
  },
  {
   "cell_type": "markdown",
   "metadata": {},
   "source": [
    "### b) Train embedding on YOUR dataset"
   ]
  },
  {
   "cell_type": "code",
   "execution_count": 31,
   "metadata": {},
   "outputs": [],
   "source": [
    "model_niet = Word2Vec(sentences=sentences_listed_niet, size=EMBEDDINGS_SIZE, sg=1, window=5, min_count=1)\n",
    "niet_embeddings = model_niet.wv\n",
    "del model_niet"
   ]
  },
  {
   "cell_type": "markdown",
   "metadata": {},
   "source": [
    "Step 3: Evaluate the differences between the word embeddings\n",
    "----------------------------\n",
    "\n",
    "(make sure to include graphs, figures, and paragraphs with full sentences)"
   ]
  },
  {
   "cell_type": "code",
   "execution_count": 32,
   "metadata": {},
   "outputs": [
    {
     "name": "stderr",
     "output_type": "stream",
     "text": [
      "<>:16: SyntaxWarning: \"is\" with a literal. Did you mean \"==\"?\n",
      "<>:17: SyntaxWarning: \"is\" with a literal. Did you mean \"==\"?\n",
      "<>:18: SyntaxWarning: \"is\" with a literal. Did you mean \"==\"?\n",
      "<>:16: SyntaxWarning: \"is\" with a literal. Did you mean \"==\"?\n",
      "<>:17: SyntaxWarning: \"is\" with a literal. Did you mean \"==\"?\n",
      "<>:18: SyntaxWarning: \"is\" with a literal. Did you mean \"==\"?\n"
     ]
    },
    {
     "name": "stdout",
     "output_type": "stream",
     "text": [
      "Output for Spooky Embeddings:\n"
     ]
    },
    {
     "name": "stderr",
     "output_type": "stream",
     "text": [
      "<ipython-input-32-f27bb8b7847e>:16: SyntaxWarning: \"is\" with a literal. Did you mean \"==\"?\n",
      "  print(f\"Was the model able to distinguish 'peasant' from food? {odd_one_out_food is 'peasant'}\")\n",
      "<ipython-input-32-f27bb8b7847e>:17: SyntaxWarning: \"is\" with a literal. Did you mean \"==\"?\n",
      "  print(f\"Was the model able to distinguish 'favorite' from weekdays? {odd_one_out_days is 'favorite'}\")\n",
      "<ipython-input-32-f27bb8b7847e>:18: SyntaxWarning: \"is\" with a literal. Did you mean \"==\"?\n",
      "  print(f\"Was the model able to distinguish 'train' from animals? {odd_one_out_animals is 'train'}\")\n"
     ]
    },
    {
     "name": "stdout",
     "output_type": "stream",
     "text": [
      "Word most similar to 'king': nobleman\n",
      "Word most similar to 'horse': coat\n",
      "Word most similar to 'man': gentleman\n",
      "King - Man + Woman: widow\n",
      "Was the model able to distinguish 'peasant' from food? True\n",
      "Was the model able to distinguish 'favorite' from weekdays? True\n",
      "Was the model able to distinguish 'train' from animals? False\n",
      "--------------------------------------\n",
      "Output for Nietzsche Embeddings\n",
      "Word most similar to 'king': nobleman\n",
      "Word most similar to 'horse': coat\n",
      "Word most similar to 'man': gentleman\n",
      "King - Man + Woman: widow\n",
      "Was the model able to distinguish 'peasant' from food? True\n",
      "Was the model able to distinguish 'favorite' from weekdays? True\n",
      "Was the model able to distinguish 'train' from animals? False\n"
     ]
    },
    {
     "name": "stderr",
     "output_type": "stream",
     "text": [
      "/Users/suzanne/opt/anaconda3/lib/python3.8/site-packages/gensim/models/keyedvectors.py:877: FutureWarning: arrays to stack must be passed as a \"sequence\" type such as list or tuple. Support for non-sequence iterables such as generators is deprecated as of NumPy 1.16 and will raise an error in the future.\n",
      "  vectors = vstack(self.word_vec(word, use_norm=True) for word in used_words).astype(REAL)\n"
     ]
    }
   ],
   "source": [
    "# This function prints some quick similarities and comparisons for the given embeddings\n",
    "def quick_evaluate_embeddings(embeddings):\n",
    "    \n",
    "    similar_to_king = spooky_embeddings.most_similar('king')[0][0]\n",
    "    similar_to_horse = spooky_embeddings.most_similar('horse')[0][0]\n",
    "    similar_to_man = spooky_embeddings.most_similar('man')[0][0]\n",
    "    king_minus_man_plus_woman = spooky_embeddings.most_similar(positive=['king', 'woman'], negative=['man'])[0][0]\n",
    "    odd_one_out_food = spooky_embeddings.doesnt_match(('bread', 'meat', 'vegetables', 'peasant'))\n",
    "    odd_one_out_days = spooky_embeddings.doesnt_match(('monday', 'wednesday', 'friday', 'favorite'))\n",
    "    odd_one_out_animals = spooky_embeddings.doesnt_match(('cat', 'dog', 'sheep', 'wolf', 'hose'))\n",
    "\n",
    "    print(f\"Word most similar to 'king': {similar_to_king}\")\n",
    "    print(f\"Word most similar to 'horse': {similar_to_horse}\")\n",
    "    print(f\"Word most similar to 'man': {similar_to_man}\")\n",
    "    print(f\"King - Man + Woman: {king_minus_man_plus_woman}\")\n",
    "    print(f\"Was the model able to distinguish 'peasant' from food? {odd_one_out_food is 'peasant'}\")\n",
    "    print(f\"Was the model able to distinguish 'favorite' from weekdays? {odd_one_out_days is 'favorite'}\")\n",
    "    print(f\"Was the model able to distinguish 'train' from animals? {odd_one_out_animals is 'train'}\")\n",
    "    \n",
    "\n",
    "print('Output for Spooky Embeddings:')\n",
    "quick_evaluate_embeddings(spooky_embeddings)\n",
    "print('--------------------------------------')\n",
    "print('Output for Nietzsche Embeddings')\n",
    "quick_evaluate_embeddings(niet_embeddings)"
   ]
  },
  {
   "cell_type": "code",
   "execution_count": 9,
   "metadata": {},
   "outputs": [
    {
     "name": "stdout",
     "output_type": "stream",
     "text": [
      "Original shape of the matrix: (30724, 300)\n",
      "New shape of the matrix: (30724, 50)\n",
      "Cumulative explained variance of first 50 PC dimensions: 99.19999837875366%\n"
     ]
    },
    {
     "name": "stderr",
     "output_type": "stream",
     "text": [
      "Performing t-SNE using 1 cores.\n",
      "Using no_dims = 2, perplexity = 45.000000, and theta = 0.500000\n",
      "Computing input similarities...\n",
      "Building tree...\n",
      " - point 3072 of 30724\n",
      " - point 6144 of 30724\n",
      " - point 9216 of 30724\n",
      " - point 12288 of 30724\n",
      " - point 15360 of 30724\n",
      " - point 18432 of 30724\n",
      " - point 21504 of 30724\n",
      " - point 24576 of 30724\n",
      " - point 27648 of 30724\n",
      " - point 30720 of 30724\n",
      "Done in 9.00 seconds (sparsity = 0.006985)!\n",
      "Learning embedding...\n",
      "Iteration 51: error is 103.841310 (50 iterations in 16.00 seconds)\n",
      "Iteration 101: error is 96.699981 (50 iterations in 15.00 seconds)\n",
      "Iteration 151: error is 91.205917 (50 iterations in 15.00 seconds)\n",
      "Iteration 201: error is 90.019712 (50 iterations in 13.00 seconds)\n",
      "Iteration 251: error is 89.681145 (50 iterations in 13.00 seconds)\n",
      "Iteration 301: error is 3.899167 (50 iterations in 13.00 seconds)\n",
      "Iteration 351: error is 3.623601 (50 iterations in 12.00 seconds)\n",
      "Iteration 401: error is 3.463856 (50 iterations in 12.00 seconds)\n",
      "Iteration 451: error is 3.356720 (50 iterations in 12.00 seconds)\n",
      "Iteration 500: error is 3.279991 (50 iterations in 12.00 seconds)\n",
      "Fitting performed in 133.00 seconds.\n"
     ]
    }
   ],
   "source": [
    "# Building the t-SNE projection\n",
    "\n",
    "# This is the V x E matrix; the full-length embedding for each vocab word\n",
    "# Each unique word $w_{i}$ represents the row $V_{i}$\n",
    "# Each row is a vector of length E which corresponds to that word's embedding \n",
    "embedding_matrix_spooky = spooky_embeddings[spooky_embeddings.vocab]\n",
    "# X_niet = niet_embeddings[niet_embeddings.vocab]\n",
    "print(f\"Original shape of the matrix: {embedding_matrix_spooky.shape}\")  # (31851, 300)\n",
    "\n",
    "\n",
    "# We first run PCA and keep the first num_components dimensions before we pass into t-SNE\n",
    "num_components = 50\n",
    "random_seed = 100\n",
    "\n",
    "pca = PCA(n_components=num_components)\n",
    "pca_reduced_embeddings = pca.fit_transform(embedding_matrix_spooky)\n",
    "print(f\"New shape of the matrix: {pca_reduced_embeddings.shape}\")  # (31851, 50)\n",
    "\n",
    "# Since we ran PCA and kept only the first few dimensions, we want to know how much\n",
    "# of the original information is still preserved in this projection. The concept of\n",
    "# \"explained variance\" is helpful here. Our original 300-dimensional vector space has \n",
    "# a certain amount of variance among the data. This is our \"total variance\". When we \n",
    "# project to 50 dimensions, we lose some of that variance, since we lose dimensions along\n",
    "# which our data can vary. We calculate the total amount of variance in our 50-dimensional\n",
    "# space and divide that number by our total variance. This yields the amount of variance \n",
    "# preserved after our projection. So while our data might not have *all* of the original\n",
    "# variance, we can still see that it has a significant percentage of the total variance, and\n",
    "# so we only lose a small amount of information while reducing our space a lot. Thanks PCA!\n",
    "print(f\"Cumulative explained variance of first {num_components} PC dimensions: {100 * round(np.sum(pca.explained_variance_ratio_), 3)}%\")\n",
    "\n",
    "\n",
    "# Now we run t-SNE to visualize the clusters\n",
    "tsne_spooky = TSNE(n_components=2, perplexity=45, verbose=True, random_state=random_seed, n_iter=500)\n",
    "tsne_niet = TSNE(n_components=2, perplexity=45, verbose=True, random_state=random_seed, n_iter=500)\n",
    "tsne_embeddings_spooky = tsne_spooky.fit_transform(pca_reduced_embeddings)\n",
    "X_embedded_niet = tsne.fit_transform(X_niet)"
   ]
  },
  {
   "cell_type": "code",
   "execution_count": 11,
   "metadata": {},
   "outputs": [
    {
     "name": "stdout",
     "output_type": "stream",
     "text": [
      "[16. 10.]\n"
     ]
    },
    {
     "data": {
      "image/png": "[encoded data removed]",
      "text/plain": [
       "<Figure size 1152x720 with 2 Axes>"
      ]
     },
     "metadata": {
      "needs_background": "light"
     },
     "output_type": "display_data"
    }
   ],
   "source": [
    "# Visualizing the data\n",
    "\n",
    "vis_x_spooky = tsne_embeddings_spooky[:, 0]\n",
    "vis_y_spooky = tsne_embeddings_spooky[:, 1]\n",
    "\n",
    "# vis_x_niet = X_embedded_niet[:, 0]\n",
    "# vis_y_niet = X_embedded_niet[:, 1]\n",
    "\n",
    "fig, (ax1, ax2) = plt.subplots(1, 2, sharey=True, figsize=(16, 10))\n",
    "\n",
    "ax1.scatter(vis_x_spooky, vis_y_spooky, c='grey', marker='.')\n",
    "# ax.scatter(vis_x_niet, vis_y_niet, c='blue', marker='.')\n",
    "\n",
    "# We highlight the location of several words of interest on this chart.\n",
    "words_of_interest = ('man', 'woman', 'boy', 'girl', 'child', 'kid', 'adult',\n",
    "                     'coat', 'hat', 'shoe', 'shoes', 'glove', 'gloves',\n",
    "                     'dog', 'kitten', 'horse', 'horses', 'cow',\n",
    "                     'large', 'big', 'tiny', 'small', 'smaller', 'smallest')\n",
    "vectors_of_interest = []\n",
    "# Need to look up the index of the word to find its corresponding t-SNE vector\n",
    "for word in words_of_interest:\n",
    "    idx_of_word = spooky_embeddings.vocab[word].index\n",
    "    vectors_of_interest.append(tsne_spooky.embedding_[idx_of_word])\n",
    "    \n",
    "# Text styling parameters\n",
    "font= {'family':'serif','color':'darkblue','weight':'normal','size':14}\n",
    "\n",
    "# Draw the words of interest on and label them\n",
    "for idx, vec in enumerate(vectors_of_interest):\n",
    "    ax1.scatter(vec[0], vec[1], c='yellow', marker='x')\n",
    "    ax1.text(vec[0], vec[1], words_of_interest[idx], fontdict=font)\n",
    "\n",
    "plt.show()"
   ]
  },
  {
   "cell_type": "markdown",
   "metadata": {},
   "source": [
    "Cite your sources:\n",
    "-------------"
   ]
  },
  {
   "cell_type": "markdown",
   "metadata": {},
   "source": [
    "Step 4: Feedforward Neural Language Model\n",
    "--------------------------"
   ]
  },
  {
   "cell_type": "markdown",
   "metadata": {},
   "source": [
    "### a) First, encode  your text into integers"
   ]
  },
  {
   "cell_type": "code",
   "execution_count": 12,
   "metadata": {
    "ExecuteTime": {
     "end_time": "2020-10-26T21:39:09.625031Z",
     "start_time": "2020-10-26T21:39:09.009109Z"
    }
   },
   "outputs": [],
   "source": [
    "# Importing utility functions from Keras\n",
    "from keras.preprocessing.text import Tokenizer\n",
    "from keras.utils import to_categorical\n",
    "from keras.models import Sequential\n",
    "from keras.layers import Dense\n",
    "from keras.layers import Input\n",
    "\n",
    "NGRAM = 4  # The size of the ngram language model we will train"
   ]
  },
  {
   "cell_type": "code",
   "execution_count": 41,
   "metadata": {
    "ExecuteTime": {
     "end_time": "2020-10-24T03:27:54.373208Z",
     "start_time": "2020-10-24T03:27:54.369835Z"
    }
   },
   "outputs": [],
   "source": [
    "# First, we map each word to a unique index\n",
    "tokenizer = Tokenizer()\n",
    "tokenizer.fit_on_texts(sentences_listed_spooky)\n",
    "sentences_listed_unique_id = tokenizer.texts_to_sequences(sentences_listed_spooky)"
   ]
  },
  {
   "cell_type": "code",
   "execution_count": null,
   "metadata": {},
   "outputs": [],
   "source": []
  },
  {
   "cell_type": "code",
   "execution_count": 42,
   "metadata": {},
   "outputs": [
    {
     "name": "stdout",
     "output_type": "stream",
     "text": [
      "Resulting shape from concatenating the word embeddings for mini-concat:\n",
      "(900,)\n",
      "Expected shape from concatenating the word embeddings for mini-concat:\n",
      "(900,)\n"
     ]
    }
   ],
   "source": [
    "# This function will return a single numpy array of \n",
    "# length (N-1)xE, where N is the n-gram order (implicitly, the length of our iterable), \n",
    "# and E is the length of our embedding. The output is a concatenation of the \n",
    "# word embeddings in our iterable. \n",
    "def concat_word_embeddings(iterable, embeddings):\n",
    "    disjoint_embeddings = [spooky_embeddings.get_vector(word) for word in iterable]\n",
    "    return np.concatenate(disjoint_embeddings)\n",
    "\n",
    "mini_concat = ['did', 'you', 'win']\n",
    "\n",
    "# We expect the resulting shape to be len(mini_concat) * EMBEDDINGS_SIZE\n",
    "print(\"Resulting shape from concatenating the word embeddings for mini-concat:\")\n",
    "print(concat_word_embeddings(mini_concat, spooky_embeddings).shape)\n",
    "print(\"Expected shape from concatenating the word embeddings for mini-concat:\")\n",
    "print((len(mini_concat) * EMBEDDINGS_SIZE,))"
   ]
  },
  {
   "cell_type": "code",
   "execution_count": 44,
   "metadata": {},
   "outputs": [
    {
     "name": "stdout",
     "output_type": "stream",
     "text": [
      "Result of the test sequence being separated into tuples\n",
      "[-2.08165407e-01  2.59995125e-02 -4.33695354e-02 -5.39706945e-01\n",
      " -1.48700461e-01  1.17455997e-01  2.09089145e-01  6.50976971e-02\n",
      "  1.33267477e-01 -3.50902677e-02 -1.12117536e-01  1.66133463e-01\n",
      "  5.46519347e-02  1.19944885e-01  1.59432486e-01  1.52267948e-01\n",
      "  2.10350543e-01 -3.01085413e-01  1.53002426e-01 -1.04529202e-01\n",
      " -9.09189284e-02  7.59725943e-02  1.84228688e-01 -2.42620721e-01\n",
      "  2.96496898e-01  2.00325176e-02 -7.55894883e-03  2.37232465e-02\n",
      "  1.16036408e-01 -8.95463899e-02 -2.98145652e-01 -1.82537913e-01\n",
      "  6.10134900e-02  2.47310009e-02 -1.98622748e-01 -2.71629959e-01\n",
      " -7.64030591e-02  1.37517869e-01 -3.69276665e-03 -7.84765035e-02\n",
      "  2.91169465e-01 -1.98884495e-02  1.03824548e-01  1.22715421e-01\n",
      "  1.00721925e-01  3.82800281e-01 -1.64402708e-01 -8.12537074e-02\n",
      "  1.91741250e-02 -3.54340076e-02 -1.26076922e-01  9.63551626e-02\n",
      " -1.19425684e-01  5.50625697e-02  1.11175820e-01  7.87007287e-02\n",
      " -1.53169274e-01 -6.38308600e-02 -3.19644183e-01  1.03226654e-01\n",
      " -5.09467684e-02 -5.30310422e-02  2.33468041e-02  2.96859354e-01\n",
      " -2.52644569e-01 -1.06156282e-01  4.20108251e-02  2.95809358e-01\n",
      "  3.94523256e-02  1.91511050e-01 -9.15726945e-02 -2.15621814e-02\n",
      "  7.82213882e-02  2.95160040e-02 -3.46042901e-01 -1.24185249e-01\n",
      "  9.31962803e-02  1.05300471e-01 -1.81485817e-01  9.29013565e-02\n",
      " -1.15548693e-01 -2.04635143e-01 -4.27158922e-02 -1.42410293e-01\n",
      "  2.85814293e-02  4.11702832e-03  4.60122749e-02  2.20261052e-01\n",
      " -1.70977637e-01 -5.07470191e-01  7.92233944e-02 -1.29687160e-01\n",
      "  2.40930654e-02  6.93691149e-02 -2.65723448e-02  1.21553421e-01\n",
      "  1.29321352e-01 -1.89070031e-01  1.78827092e-01  1.63120255e-01\n",
      " -2.21909627e-01  2.04244833e-02  2.58774012e-01  8.49680379e-02\n",
      " -4.47801910e-02 -5.84025234e-02 -3.30760106e-02  1.02435432e-01\n",
      " -2.20151752e-01 -2.09825784e-01  1.15606673e-01  1.36183053e-01\n",
      "  8.63474142e-03  1.18898705e-01  4.56183136e-01  2.13359624e-01\n",
      " -1.24443054e-01 -2.80790538e-01 -2.00630371e-02 -2.09444597e-01\n",
      " -2.15379633e-02  1.12676144e-01 -5.21306157e-01 -9.08881202e-02\n",
      " -4.96465787e-02  2.45039180e-01 -3.74475233e-02 -2.13553429e-01\n",
      "  1.24238893e-01  1.71150506e-01  4.80538756e-02 -2.15086818e-01\n",
      "  7.33197853e-02 -5.17148385e-03  9.70908552e-02 -9.94208232e-02\n",
      "  2.36334234e-01 -3.50047320e-01 -2.68238246e-01  1.75855175e-01\n",
      "  5.21514053e-03  3.37792113e-02 -1.29762799e-01 -2.26664431e-02\n",
      "  1.10848241e-01  8.87644738e-02  3.89149159e-01  1.19240336e-01\n",
      " -6.50501391e-03  1.83972567e-02 -1.05363749e-01  1.13723628e-01\n",
      " -8.70789289e-02 -1.07319690e-02  1.53563410e-01  1.57010883e-01\n",
      " -2.61626452e-01  2.06929311e-01  2.91786253e-01 -4.89928201e-02\n",
      "  9.79425292e-03 -2.63026357e-01  2.45403349e-01  2.39902153e-03\n",
      "  1.65459603e-01 -9.52677131e-02  2.98507571e-01  9.38983485e-02\n",
      "  4.43318971e-02  2.66011745e-01  1.44023865e-01  4.90601584e-02\n",
      " -2.12935373e-01 -4.87543084e-02 -3.10896095e-02  5.76353632e-02\n",
      " -8.39994773e-02  1.31980106e-01 -6.44452125e-02  2.18433067e-01\n",
      "  4.89678718e-02 -3.74263525e-02 -1.65943131e-01  3.32968771e-01\n",
      " -1.05258174e-01  1.03891499e-01  1.33949183e-02 -3.94320250e-01\n",
      "  2.41260320e-01 -1.51589096e-01 -1.44557133e-01  3.29324245e-01\n",
      " -6.50557727e-02  1.08483672e-01  9.05250460e-02 -1.52321965e-01\n",
      " -1.72249630e-01 -1.62364066e-01  1.09986924e-01  2.34755531e-01\n",
      "  3.30582678e-01 -6.62217811e-02 -1.04565278e-01 -3.45704257e-01\n",
      "  3.05384606e-01  7.70766661e-02  2.49608323e-01  2.24234746e-03\n",
      " -1.34509414e-01 -2.17722192e-01 -7.04052895e-02 -4.86945442e-04\n",
      " -8.74537602e-02  2.37637088e-01  2.79124290e-01  2.93912053e-01\n",
      "  1.27900913e-01 -1.16890952e-01  2.43194044e-01  9.04533044e-02\n",
      " -2.29811504e-01 -9.05736685e-02 -8.07575211e-02  1.01030409e-01\n",
      " -5.27745672e-02 -2.44418025e-01 -1.79653645e-01  1.74035057e-01\n",
      "  1.05874777e-01  4.82253842e-02  3.66172828e-02  2.24332288e-02\n",
      "  5.82019053e-02  9.49307904e-02 -2.42994159e-01 -7.21882507e-02\n",
      "  1.87949657e-01  1.08019270e-01  1.85357735e-01  2.14301512e-01\n",
      "  2.51740366e-01 -1.20909244e-01 -3.26462924e-01 -2.98277080e-01\n",
      " -7.64789581e-02 -2.10599884e-01 -1.18727468e-01  1.40650973e-01\n",
      "  2.98826426e-01 -2.15394914e-01 -1.26748979e-01 -4.87662805e-03\n",
      " -2.71633640e-02 -7.07986802e-02  5.02947532e-03  1.62219226e-01\n",
      "  8.14613923e-02  1.81028813e-01 -4.79973137e-01  5.89685962e-02\n",
      " -1.87424317e-01 -2.12996766e-01  1.16478249e-01  2.03596950e-02\n",
      "  5.38772531e-02 -8.99690688e-02 -4.46472205e-02 -2.39902493e-02\n",
      "  1.56392336e-01  2.52884347e-02 -3.91688287e-01 -1.30167782e-01\n",
      "  1.93633616e-01 -2.92431414e-01  2.26600189e-02 -3.76299739e-01\n",
      "  1.22655593e-01  1.28390834e-01 -1.03420019e-01  5.88067248e-02\n",
      "  3.16734016e-01 -9.06582475e-02 -2.88224835e-02  1.81817322e-03\n",
      " -3.00732970e-01  1.23650916e-01 -2.50158876e-01 -1.87816530e-01\n",
      "  2.64357120e-01 -1.45398322e-02  8.83757547e-02  4.02227929e-03\n",
      "  4.66445982e-01  2.04071011e-02  1.17244713e-01 -1.09508201e-01\n",
      " -4.58339974e-02  1.39425406e-02 -1.68150410e-01  1.93766318e-02\n",
      " -2.49426991e-01  8.23449194e-02 -2.15053841e-01 -7.82550514e-01\n",
      "  6.36084378e-02 -1.09706275e-01  1.19123116e-01 -2.23455340e-01\n",
      " -2.27813303e-01 -1.37578934e-01 -1.45619482e-01  2.89987385e-01\n",
      "  9.63937566e-02  2.03595072e-01 -6.71617761e-02  2.97744334e-01\n",
      " -1.88344866e-01 -5.20395100e-01  8.22004080e-02 -2.68231899e-01\n",
      " -2.94708312e-01 -3.85421842e-01  2.70379782e-01 -3.89146268e-01\n",
      "  5.68426609e-01  3.30915749e-01 -1.01933107e-01  2.56516397e-01\n",
      "  4.20835568e-03 -2.12876692e-01 -5.76564968e-01 -2.54492253e-01\n",
      "  2.19168603e-01 -6.60097525e-02 -2.16801479e-01  1.40473187e-01\n",
      " -3.95368874e-01  3.81344780e-02  1.89851478e-01  9.81603786e-02\n",
      "  1.68035880e-01  3.38383615e-01  1.76242054e-01 -1.09370247e-01\n",
      "  1.91565156e-01  2.87886500e-01 -3.90126377e-01 -3.82759348e-02\n",
      " -2.27286711e-01  8.88142362e-02 -3.88502851e-02  2.21488938e-01\n",
      " -1.78828374e-01  1.91031337e-01 -2.50676185e-01  6.26557097e-02\n",
      " -2.12115794e-01  1.40628710e-01 -1.11419611e-01  1.66778311e-01\n",
      " -2.41930008e-01 -3.87060791e-01  2.94225276e-01  1.92454070e-01\n",
      " -2.28211731e-01 -5.94633706e-02 -1.86937705e-01  2.02897370e-01\n",
      "  2.33106986e-01 -2.43732259e-02 -1.46717906e-01 -4.92013067e-01\n",
      "  4.92229983e-02 -4.64571863e-02 -5.41990161e-01  8.89253840e-02\n",
      "  2.20644608e-01  2.25694403e-01  1.03277721e-01 -5.83178475e-02\n",
      " -9.44371149e-02 -2.99480766e-01 -2.72959352e-01 -2.58362532e-01\n",
      " -1.55020803e-01 -1.92350820e-02 -2.90798694e-02  4.65633601e-01\n",
      " -3.55226368e-01 -5.98487914e-01  2.19482839e-01 -1.06355481e-01\n",
      "  2.35424042e-01  2.08090290e-01 -2.34727055e-01  2.61104375e-01\n",
      "  2.55447198e-02 -2.62858063e-01  4.14646901e-02  5.50270006e-02\n",
      " -4.17183161e-01 -1.86275560e-02  1.64142877e-01  1.38522550e-01\n",
      "  6.56762719e-02 -1.72227874e-01 -2.44927838e-01  2.56532222e-01\n",
      " -2.47132793e-01 -5.87128513e-02  1.51170224e-01 -4.03560959e-02\n",
      "  5.71126997e-01  2.05972403e-01  5.61875522e-01  2.69812286e-01\n",
      "  9.55188647e-02 -1.83777794e-01 -2.65883297e-01 -3.10793072e-01\n",
      " -1.89962164e-01  3.91371623e-02 -6.62006855e-01 -9.40415636e-03\n",
      " -2.60990947e-01  1.99199468e-01 -1.62500888e-01 -3.81322145e-01\n",
      "  1.53160647e-01  2.71853745e-01 -4.10630275e-03 -2.66291946e-01\n",
      " -3.06782089e-02  2.71277249e-01  1.37962148e-01 -2.50677168e-01\n",
      "  4.74112853e-02 -3.09072614e-01  3.41945477e-02  5.55558354e-02\n",
      " -3.12802583e-01 -1.49211781e-02 -1.94539115e-01  1.06701165e-01\n",
      " -1.25780553e-02 -1.79689094e-01  3.84813666e-01  5.84765486e-02\n",
      " -3.32619578e-01  1.05460607e-01  3.04747432e-01 -3.58500667e-02\n",
      " -6.78683282e-04  1.22346841e-01  1.33688629e-01  3.58974576e-01\n",
      " -2.19220057e-01  2.12421775e-01  4.53077137e-01 -2.50485599e-01\n",
      "  1.43663839e-01 -2.30041280e-01  6.50903761e-01 -9.07331929e-02\n",
      "  5.02458632e-01 -2.21611381e-01  2.19057068e-01  2.17670962e-01\n",
      "  9.09098610e-02  2.57683516e-01  5.57930209e-02  1.01802602e-01\n",
      " -3.13999891e-01 -1.63949654e-01 -2.04798542e-02  1.81281298e-01\n",
      " -6.65594488e-02  4.78341818e-01 -4.64338064e-02  1.56845376e-01\n",
      " -5.79567291e-02  6.48220778e-02 -2.44921967e-01  3.43033880e-01\n",
      " -1.67526931e-01  6.80526048e-02 -1.37825027e-01 -4.89646196e-01\n",
      "  4.61302161e-01 -2.37692535e-01 -1.67914644e-01  5.35676301e-01\n",
      " -4.31261629e-01  2.70799845e-01  3.55517447e-01 -2.54326940e-01\n",
      " -3.70447457e-01 -2.79841751e-01  1.48290768e-01  1.75379947e-01\n",
      "  1.56720415e-01 -3.11144233e-01 -2.70334095e-01 -5.04946351e-01\n",
      "  4.28524017e-02 -1.23639479e-01  2.99954683e-01 -5.48594929e-02\n",
      " -1.70655638e-01  1.58717036e-01 -1.20341457e-01  1.76311478e-01\n",
      "  1.12344921e-01  6.10369667e-02  3.79965872e-01 -2.23518200e-02\n",
      "  3.45022678e-01  3.81003767e-02 -9.49112177e-02  1.10896051e-01\n",
      " -2.92377919e-01 -9.68352798e-03  2.77466653e-03  2.12736651e-01\n",
      " -1.76032141e-01  1.32629022e-01 -4.02206630e-02  1.81703363e-02\n",
      " -1.66015536e-01 -1.25086755e-01  8.01578686e-02 -5.47254421e-02\n",
      "  2.59863734e-01 -3.32883783e-02 -1.97401911e-01 -6.86740875e-03\n",
      "  1.52581975e-01  2.06540897e-01  4.48099881e-01 -8.36826116e-02\n",
      "  2.71748573e-01 -3.29373889e-02 -2.17141122e-01 -1.72319770e-01\n",
      " -3.45258825e-02 -1.38999358e-01 -2.79404551e-01 -1.92714468e-01\n",
      "  1.56254262e-01 -1.29312739e-01  1.79112896e-01  1.47336632e-01\n",
      "  1.17983520e-01  1.16473168e-01 -4.97339219e-01  1.26245588e-01\n",
      "  2.02781692e-01  2.12573856e-01 -3.57139736e-01 -5.03409915e-02\n",
      " -3.29641581e-01  1.43795222e-01 -3.59712392e-02  3.99805903e-02\n",
      " -2.63659917e-02 -1.61027223e-01 -2.46269643e-01  5.74152436e-05\n",
      "  1.77762359e-01  2.38286972e-01 -4.66277033e-01 -9.87202153e-02\n",
      "  6.95335492e-02 -2.99347818e-01 -7.56876543e-02 -1.53342277e-01\n",
      " -2.65268795e-02  6.73810318e-02 -9.00893211e-02  2.55004853e-01\n",
      "  2.63066292e-02 -1.18339494e-01  2.78982911e-02  3.15056145e-02\n",
      " -3.49420726e-01 -1.48630412e-02  1.75041892e-02 -4.10895348e-02\n",
      " -4.95539978e-02 -8.31379220e-02  5.00402413e-02  5.38572073e-02\n",
      "  3.48791063e-01  3.71491686e-02  7.05331117e-02 -1.98831081e-01\n",
      " -2.72878557e-01 -1.65757775e-01 -9.89798605e-02 -8.06682706e-02\n",
      "  8.26741681e-02  3.73079740e-02 -6.33210093e-02 -2.32563555e-01\n",
      "  8.19681212e-02  1.33413583e-01  1.83303878e-01 -3.54875892e-01\n",
      " -8.74441043e-02  4.02836688e-02 -2.29789972e-01 -1.60590298e-02\n",
      "  2.95468438e-02 -3.90346825e-01 -5.30090891e-02 -2.78418902e-02\n",
      " -1.82043821e-01 -3.22490931e-01  8.85550380e-02 -4.98684198e-02\n",
      "  3.93592902e-02 -2.49677032e-01 -2.69989401e-01  1.03396766e-01\n",
      "  1.68238813e-03 -2.13889182e-01  1.02396108e-01  4.05016571e-01\n",
      "  2.05378428e-01 -3.45050126e-01  1.82159901e-01  6.33796677e-02\n",
      " -2.27407422e-02  5.22352271e-02  1.86127782e-01 -1.30763605e-01\n",
      " -1.10956831e-02  7.75221288e-02  6.90840557e-02  9.26430523e-02\n",
      " -7.41689503e-02 -4.89014775e-01 -8.67565870e-02  2.33442456e-01\n",
      "  1.82025015e-01  1.15044266e-01 -1.01308100e-01  1.73481163e-02\n",
      " -1.75802000e-02 -4.35645580e-01  4.19946052e-02  2.86825120e-01\n",
      "  1.18964471e-01 -2.46362716e-01  4.40455973e-02  1.57602414e-01\n",
      " -9.09044668e-02 -1.00472391e-01 -3.91641647e-01 -1.53684616e-01\n",
      " -6.56685084e-02 -2.95451313e-01 -2.19198138e-01 -7.62688220e-02\n",
      " -2.95733213e-02 -1.95582151e-01 -8.47796500e-02  2.55937517e-01\n",
      "  6.27761893e-03  3.13735723e-01 -2.87817478e-01 -3.39376152e-01\n",
      "  4.87093907e-03 -1.04194635e-03 -2.46724263e-01 -2.04836011e-01\n",
      "  2.12713897e-01  3.28863077e-02 -1.81863248e-01 -1.82376001e-02\n",
      " -6.62407465e-03 -1.52971476e-01  1.64278187e-02  4.32062894e-02\n",
      "  3.89322877e-01  1.65944114e-01  1.77687675e-01 -2.69623268e-02\n",
      " -3.29780251e-01 -2.99988061e-01  3.82863969e-01 -1.11446418e-01\n",
      " -2.11067721e-01 -6.63129687e-02 -8.49577412e-03  9.76531431e-02\n",
      "  1.59185097e-01 -2.45963156e-01  1.66488722e-01 -1.31211594e-01\n",
      " -2.41047964e-01  4.48562324e-01  2.47221097e-01  1.34305909e-01\n",
      " -7.61580700e-03  1.87545508e-01 -2.73474306e-01  3.43902446e-02\n",
      " -2.38994464e-01  7.52571747e-02 -1.62004486e-01 -1.36889398e-01\n",
      "  3.22011471e-01  5.72521426e-02  4.43672359e-01 -2.36889705e-01\n",
      "  5.63671887e-02 -3.18256497e-01  2.03435630e-01 -1.16198301e-01\n",
      " -1.18052633e-02  2.88786024e-01 -1.91161588e-01 -1.00620225e-01\n",
      " -4.85246219e-02 -1.04174010e-01  2.33592451e-01 -1.89998478e-01\n",
      " -1.17040321e-01 -2.70122308e-02  3.11376661e-01  2.62467653e-01\n",
      "  7.65718147e-02  1.32247448e-01 -1.32040352e-01 -3.78776252e-01\n",
      "  9.16124880e-02 -2.73669302e-01  1.42885417e-01 -2.32252389e-01\n",
      "  3.85584719e-02 -1.75298288e-01 -8.68890136e-02  9.36250091e-02\n",
      "  2.36181721e-01  1.11714646e-01  3.87539119e-01  4.22734648e-01\n",
      " -2.74035782e-01 -2.87544634e-03  5.49252564e-03  1.14813253e-01\n",
      " -3.81609887e-01 -1.73693337e-02  1.54580459e-01  6.44980418e-03\n",
      " -4.89323616e-01 -9.96047929e-02  2.94153541e-01  7.43788481e-02\n",
      "  1.03514344e-01 -3.27418178e-01  5.89835159e-02  2.02580482e-01\n",
      "  7.43592680e-02 -7.17984214e-02  1.77737802e-01  9.38892290e-02\n",
      " -2.40940601e-01  1.33011462e-02  2.48031959e-01  2.70775944e-01\n",
      "  7.53407180e-02 -5.96932352e-01  7.63420090e-02 -1.52628973e-01\n",
      "  1.88831761e-02 -1.10734820e-01  2.22333416e-01 -3.23993713e-02\n",
      " -2.78226901e-02  1.59731850e-01  3.87750238e-01  7.68756419e-02\n",
      "  9.13885236e-02 -9.02846158e-02 -1.65088147e-01 -4.79252130e-01\n",
      "  2.94329852e-01  4.97176952e-05  8.77043679e-02  1.52875021e-01\n",
      "  1.49826318e-01  2.22378612e-01 -2.13103294e-01  1.50746495e-01\n",
      " -5.27691126e-01 -1.21502914e-01 -2.31451645e-01  2.40025505e-01\n",
      "  1.30014360e-01 -2.20989004e-01 -2.64934152e-01 -3.36226851e-01\n",
      "  1.87341452e-01 -1.47551373e-01  2.21236259e-01  4.23012435e-01\n",
      "  3.45509261e-01 -1.38917327e-01 -6.58047572e-02  4.20112103e-01\n",
      " -8.52454677e-02 -1.10225677e-01 -8.53452832e-02  3.38059217e-02\n",
      " -2.01985352e-02 -1.89684272e-01 -1.22696690e-01  8.48846212e-02\n",
      " -1.11416683e-01  3.92720163e-01  1.01206362e-01  9.50750858e-02\n",
      "  1.07460260e-01  1.02010481e-01  2.60673016e-01  1.28158361e-01\n",
      "  1.00148052e-01  2.05029786e-01  1.97777137e-01  1.40112087e-01\n",
      "  2.61211455e-01  5.57052866e-02 -4.27684814e-01  1.79000929e-01\n",
      " -2.24154890e-01  1.89319000e-01  6.44816011e-02 -8.54949374e-03\n",
      "  1.31181195e-01 -1.45948753e-01 -5.49846888e-02 -4.57663655e-01\n",
      "  1.17365554e-01 -3.22523147e-01 -2.19386607e-01  1.75813451e-01\n",
      " -1.87946126e-01 -3.48938435e-01 -1.03910305e-01  5.53935617e-02\n",
      "  3.17006037e-02 -4.10335623e-02  2.48941600e-01  2.12524161e-01\n",
      "  7.89547563e-02 -7.25222230e-02 -3.39258820e-01  1.77720904e-01\n",
      " -5.33576846e-01  3.18170458e-01  1.33070365e-01  1.84509709e-01\n",
      " -3.36853154e-02 -3.01228344e-01  1.49343967e-01  2.87268981e-02\n",
      "  9.53732654e-02  7.12933987e-02 -2.84057826e-01 -1.27450868e-01\n",
      "  3.82870197e-01 -2.35196635e-01 -7.98458159e-02 -2.28548944e-02\n",
      "  8.27948656e-03 -6.68485984e-02 -2.13183593e-02  7.68050030e-02\n",
      "  3.87063712e-01 -3.19581151e-01  1.95877716e-01  1.98059723e-01\n",
      "  6.21711230e-03  1.44403011e-01 -2.66244143e-01 -1.06974162e-01\n",
      "  1.73573434e-01  2.17615739e-02 -3.54729861e-01 -9.19037238e-02\n",
      "  6.66715950e-02  1.36349052e-01  2.88617122e-03  1.69209436e-01\n"
     ]
    },
    {
     "name": "stdout",
     "output_type": "stream",
     "text": [
      "  5.18255644e-02 -1.18248425e-01 -4.41508174e-01 -4.04417887e-02] -> [[0. 0. 0. 0. 0. 0. 1.]]\n"
     ]
    },
    {
     "ename": "ValueError",
     "evalue": "zero-size array to reduction operation maximum which has no identity",
     "output_type": "error",
     "traceback": [
      "\u001b[0;31m---------------------------------------------------------------------------\u001b[0m",
      "\u001b[0;31mValueError\u001b[0m                                Traceback (most recent call last)",
      "\u001b[0;32m<ipython-input-44-ce0cad502715>\u001b[0m in \u001b[0;36m<module>\u001b[0;34m\u001b[0m\n\u001b[1;32m     19\u001b[0m \u001b[0;34m\u001b[0m\u001b[0m\n\u001b[1;32m     20\u001b[0m \u001b[0mprint\u001b[0m\u001b[0;34m(\u001b[0m\u001b[0;34m\"Result of the test sequence being separated into tuples\"\u001b[0m\u001b[0;34m)\u001b[0m\u001b[0;34m\u001b[0m\u001b[0;34m\u001b[0m\u001b[0m\n\u001b[0;32m---> 21\u001b[0;31m \u001b[0;32mfor\u001b[0m \u001b[0mx\u001b[0m\u001b[0;34m,\u001b[0m \u001b[0my\u001b[0m \u001b[0;32min\u001b[0m \u001b[0mdata_to_xy_tuples\u001b[0m\u001b[0;34m(\u001b[0m\u001b[0mmini_test\u001b[0m\u001b[0;34m,\u001b[0m \u001b[0;36m3\u001b[0m\u001b[0;34m,\u001b[0m \u001b[0mtok\u001b[0m\u001b[0;34m,\u001b[0m \u001b[0mspooky_embeddings\u001b[0m\u001b[0;34m)\u001b[0m\u001b[0;34m:\u001b[0m\u001b[0;34m\u001b[0m\u001b[0;34m\u001b[0m\u001b[0m\n\u001b[0m\u001b[1;32m     22\u001b[0m     \u001b[0mprint\u001b[0m\u001b[0;34m(\u001b[0m\u001b[0;34mf\"{x} -> {y}\"\u001b[0m\u001b[0;34m)\u001b[0m\u001b[0;34m\u001b[0m\u001b[0;34m\u001b[0m\u001b[0m\n\u001b[1;32m     23\u001b[0m \u001b[0;34m\u001b[0m\u001b[0m\n",
      "\u001b[0;32m<ipython-input-44-ce0cad502715>\u001b[0m in \u001b[0;36mdata_to_xy_tuples\u001b[0;34m(data, n_gram, tokenizer, embeddings)\u001b[0m\n\u001b[1;32m     11\u001b[0m \u001b[0;31m#             yield(sentence[i : n_gram + i], sentence[n_gram + i])\u001b[0m\u001b[0;34m\u001b[0m\u001b[0;34m\u001b[0m\u001b[0;34m\u001b[0m\u001b[0m\n\u001b[1;32m     12\u001b[0m             yield (concat_word_embeddings(sentence[i : n_gram + i], embeddings), \n\u001b[0;32m---> 13\u001b[0;31m                    to_categorical(tokenizer.texts_to_sequences(sentence[n_gram + i])))\n\u001b[0m\u001b[1;32m     14\u001b[0m \u001b[0;34m\u001b[0m\u001b[0m\n\u001b[1;32m     15\u001b[0m \u001b[0;31m# Test that data_to_xy_tuples works properly\u001b[0m\u001b[0;34m\u001b[0m\u001b[0;34m\u001b[0m\u001b[0;34m\u001b[0m\u001b[0m\n",
      "\u001b[0;32m/usr/local/lib/python3.7/site-packages/tensorflow/python/keras/utils/np_utils.py\u001b[0m in \u001b[0;36mto_categorical\u001b[0;34m(y, num_classes, dtype)\u001b[0m\n\u001b[1;32m     73\u001b[0m   \u001b[0my\u001b[0m \u001b[0;34m=\u001b[0m \u001b[0my\u001b[0m\u001b[0;34m.\u001b[0m\u001b[0mravel\u001b[0m\u001b[0;34m(\u001b[0m\u001b[0;34m)\u001b[0m\u001b[0;34m\u001b[0m\u001b[0;34m\u001b[0m\u001b[0m\n\u001b[1;32m     74\u001b[0m   \u001b[0;32mif\u001b[0m \u001b[0;32mnot\u001b[0m \u001b[0mnum_classes\u001b[0m\u001b[0;34m:\u001b[0m\u001b[0;34m\u001b[0m\u001b[0;34m\u001b[0m\u001b[0m\n\u001b[0;32m---> 75\u001b[0;31m     \u001b[0mnum_classes\u001b[0m \u001b[0;34m=\u001b[0m \u001b[0mnp\u001b[0m\u001b[0;34m.\u001b[0m\u001b[0mmax\u001b[0m\u001b[0;34m(\u001b[0m\u001b[0my\u001b[0m\u001b[0;34m)\u001b[0m \u001b[0;34m+\u001b[0m \u001b[0;36m1\u001b[0m\u001b[0;34m\u001b[0m\u001b[0;34m\u001b[0m\u001b[0m\n\u001b[0m\u001b[1;32m     76\u001b[0m   \u001b[0mn\u001b[0m \u001b[0;34m=\u001b[0m \u001b[0my\u001b[0m\u001b[0;34m.\u001b[0m\u001b[0mshape\u001b[0m\u001b[0;34m[\u001b[0m\u001b[0;36m0\u001b[0m\u001b[0;34m]\u001b[0m\u001b[0;34m\u001b[0m\u001b[0;34m\u001b[0m\u001b[0m\n\u001b[1;32m     77\u001b[0m   \u001b[0mcategorical\u001b[0m \u001b[0;34m=\u001b[0m \u001b[0mnp\u001b[0m\u001b[0;34m.\u001b[0m\u001b[0mzeros\u001b[0m\u001b[0;34m(\u001b[0m\u001b[0;34m(\u001b[0m\u001b[0mn\u001b[0m\u001b[0;34m,\u001b[0m \u001b[0mnum_classes\u001b[0m\u001b[0;34m)\u001b[0m\u001b[0;34m,\u001b[0m \u001b[0mdtype\u001b[0m\u001b[0;34m=\u001b[0m\u001b[0mdtype\u001b[0m\u001b[0;34m)\u001b[0m\u001b[0;34m\u001b[0m\u001b[0;34m\u001b[0m\u001b[0m\n",
      "\u001b[0;32m<__array_function__ internals>\u001b[0m in \u001b[0;36mamax\u001b[0;34m(*args, **kwargs)\u001b[0m\n",
      "\u001b[0;32m/usr/local/lib/python3.7/site-packages/numpy/core/fromnumeric.py\u001b[0m in \u001b[0;36mamax\u001b[0;34m(a, axis, out, keepdims, initial, where)\u001b[0m\n\u001b[1;32m   2666\u001b[0m     \"\"\"\n\u001b[1;32m   2667\u001b[0m     return _wrapreduction(a, np.maximum, 'max', axis, None, out,\n\u001b[0;32m-> 2668\u001b[0;31m                           keepdims=keepdims, initial=initial, where=where)\n\u001b[0m\u001b[1;32m   2669\u001b[0m \u001b[0;34m\u001b[0m\u001b[0m\n\u001b[1;32m   2670\u001b[0m \u001b[0;34m\u001b[0m\u001b[0m\n",
      "\u001b[0;32m/usr/local/lib/python3.7/site-packages/numpy/core/fromnumeric.py\u001b[0m in \u001b[0;36m_wrapreduction\u001b[0;34m(obj, ufunc, method, axis, dtype, out, **kwargs)\u001b[0m\n\u001b[1;32m     88\u001b[0m                 \u001b[0;32mreturn\u001b[0m \u001b[0mreduction\u001b[0m\u001b[0;34m(\u001b[0m\u001b[0maxis\u001b[0m\u001b[0;34m=\u001b[0m\u001b[0maxis\u001b[0m\u001b[0;34m,\u001b[0m \u001b[0mout\u001b[0m\u001b[0;34m=\u001b[0m\u001b[0mout\u001b[0m\u001b[0;34m,\u001b[0m \u001b[0;34m**\u001b[0m\u001b[0mpasskwargs\u001b[0m\u001b[0;34m)\u001b[0m\u001b[0;34m\u001b[0m\u001b[0;34m\u001b[0m\u001b[0m\n\u001b[1;32m     89\u001b[0m \u001b[0;34m\u001b[0m\u001b[0m\n\u001b[0;32m---> 90\u001b[0;31m     \u001b[0;32mreturn\u001b[0m \u001b[0mufunc\u001b[0m\u001b[0;34m.\u001b[0m\u001b[0mreduce\u001b[0m\u001b[0;34m(\u001b[0m\u001b[0mobj\u001b[0m\u001b[0;34m,\u001b[0m \u001b[0maxis\u001b[0m\u001b[0;34m,\u001b[0m \u001b[0mdtype\u001b[0m\u001b[0;34m,\u001b[0m \u001b[0mout\u001b[0m\u001b[0;34m,\u001b[0m \u001b[0;34m**\u001b[0m\u001b[0mpasskwargs\u001b[0m\u001b[0;34m)\u001b[0m\u001b[0;34m\u001b[0m\u001b[0;34m\u001b[0m\u001b[0m\n\u001b[0m\u001b[1;32m     91\u001b[0m \u001b[0;34m\u001b[0m\u001b[0m\n\u001b[1;32m     92\u001b[0m \u001b[0;34m\u001b[0m\u001b[0m\n",
      "\u001b[0;31mValueError\u001b[0m: zero-size array to reduction operation maximum which has no identity"
     ]
    }
   ],
   "source": [
    "# We format our data to be passed into the model\n",
    "\n",
    "# This function will take our encoded list of lists\n",
    "# It will return a generator which yields values like ([([x1, x2, ... , x(n-1)], y) ...]\n",
    "# In this case, each X_i will be the word embedding corresponding to that word\n",
    "def data_to_xy_tuples(data, n_gram, tokenizer, embeddings):\n",
    "    for sentence in data:\n",
    "        if len(sentence) < n_gram:\n",
    "            continue\n",
    "        for i in range(len(sentence) - n_gram):\n",
    "#             yield(sentence[i : n_gram + i], sentence[n_gram + i])\n",
    "            yield (concat_word_embeddings(sentence[i : n_gram + i], embeddings), \n",
    "                   to_categorical(tokenizer.texts_to_sequences(sentence[n_gram + i])))\n",
    "\n",
    "# Test that data_to_xy_tuples works properly\n",
    "mini_test = [['welcome', 'back'], ['hope', 'you', 'had', 'a', 'good', 'weekend']]\n",
    "tok = Tokenizer()\n",
    "tok.fit_on_texts(mini_test)\n",
    "\n",
    "print(\"Result of the test sequence being separated into tuples\")\n",
    "for x, y in data_to_xy_tuples(mini_test, 3, tok, spooky_embeddings):\n",
    "    print(f\"{x} -> {y}\")\n",
    "\n",
    "# Finally, let's prepare our data sequence to be fed into the model\n",
    "data_generator_spooky = data_to_xy_tuples(sentences_listed_unique_id, NGRAM, tokenizer, spooky_embeddings)"
   ]
  },
  {
   "cell_type": "code",
   "execution_count": null,
   "metadata": {},
   "outputs": [],
   "source": [
    "# Let's create the model\n",
    "\n",
    "neural_lm = Sequential()\n",
    "neural_lm.add(Input(shape=(NGRAM * EMBEDDINGS_SIZE)))\n",
    "neural_lm.add(Dense(100, activation='tanh'))\n",
    "neural_lm.add(Dense(50, activation='relu'))\n",
    "neural_lm.add(Dense(len(indexed_spooky.keys()), activation='softmax'))\n",
    "\n",
    "neural_lm.compile(loss='categorical_crossentropy', optimizer='sgd')\n",
    "\n",
    "print(neural_lm.summary())"
   ]
  },
  {
   "cell_type": "code",
   "execution_count": null,
   "metadata": {},
   "outputs": [],
   "source": [
    "# Training the model\n",
    "\n",
    "\n",
    "\n",
    "\n",
    "neural_lm.fit(X, y, batch_size=100, epochs=100)"
   ]
  },
  {
   "cell_type": "markdown",
   "metadata": {},
   "source": [
    "### b) Next, prepare your sequences from text"
   ]
  },
  {
   "cell_type": "markdown",
   "metadata": {},
   "source": [
    "#### Fixed ngram based sequences (Used for Feedforward)"
   ]
  },
  {
   "cell_type": "raw",
   "metadata": {},
   "source": [
    "The training samples will be structured in the following format. \n",
    "Depening on which ngram model we choose, there will be (n-1) tokens \n",
    "in the input sequence (X) and we will need to predict the nth token (Y)\n",
    "\n",
    "            X,\t\t\t\t\t\t  y\n",
    "    this,    process               however\n",
    "    process, however               afforded\n",
    "    however, afforded\t           me"
   ]
  },
  {
   "cell_type": "code",
   "execution_count": null,
   "metadata": {
    "ExecuteTime": {
     "end_time": "2020-10-24T05:21:28.039381Z",
     "start_time": "2020-10-24T05:21:24.941885Z"
    }
   },
   "outputs": [],
   "source": [
    "def generate_ngram_training_samples():\n",
    "    '''\n",
    "    Takes the encoded data (list of lists) and generates the training samples \n",
    "    out of it.\n",
    "    Parameters:\n",
    "    up to you!\n",
    "    return: list of lists in the format [[x1, x2, ... , x(n-1), y], ...]\n",
    "    '''\n",
    "    pass\n"
   ]
  },
  {
   "cell_type": "markdown",
   "metadata": {},
   "source": [
    "### c) Then, split the sequences into X and y and create a Data Generator"
   ]
  },
  {
   "cell_type": "code",
   "execution_count": null,
   "metadata": {
    "ExecuteTime": {
     "end_time": "2020-10-24T05:21:31.213422Z",
     "start_time": "2020-10-24T05:21:31.061759Z"
    }
   },
   "outputs": [],
   "source": [
    "# Note here that the sequences were in the form: \n",
    "# sequence = [x1, x2, ... , x(n-1), y]\n",
    "# We still need to separate it into [[x1, x2, ... , x(n-1)], ...], [y1, y2, ...]"
   ]
  },
  {
   "cell_type": "code",
   "execution_count": null,
   "metadata": {
    "ExecuteTime": {
     "end_time": "2020-10-24T05:21:34.675827Z",
     "start_time": "2020-10-24T05:21:33.315288Z"
    }
   },
   "outputs": [],
   "source": [
    "def read_embeddings():\n",
    "    '''Loads and parses embeddings trained in earlier.'''\n",
    "    \n",
    "    # you may find generating the following two dicts useful:\n",
    "    # word to embedding : {'the':1, ...}\n",
    "    # index to embedding : {1:'the', ...} (inverse of word_2_embedding)\n",
    "    pass\n",
    "\n",
    "\n",
    "# remember that \"0\" index is assigned for padding token. \n",
    "# Hence, initialize the vector for padding token as all zeros of embedding size"
   ]
  },
  {
   "cell_type": "code",
   "execution_count": null,
   "metadata": {
    "ExecuteTime": {
     "end_time": "2020-10-24T05:22:24.016237Z",
     "start_time": "2020-10-24T05:22:24.011220Z"
    }
   },
   "outputs": [],
   "source": [
    "def data_generator(X, y, num_sequences_per_batch):\n",
    "    '''\n",
    "    Returns data generator to be used by feed_forward\n",
    "    https://wiki.python.org/moin/Generators\n",
    "    https://realpython.com/introduction-to-python-generators/\n",
    "    \n",
    "    Yields batches of embeddings and labels to go with them.\n",
    "    Use one hot vectors to encode the labels (see the to_categorical function)\n",
    "    '''\n",
    "    \n",
    "\n"
   ]
  },
  {
   "cell_type": "code",
   "execution_count": null,
   "metadata": {
    "ExecuteTime": {
     "end_time": "2020-10-24T05:22:55.470133Z",
     "start_time": "2020-10-24T05:22:55.398259Z"
    }
   },
   "outputs": [],
   "source": [
    "# Examples\n",
    "# initialize data_generator\n",
    "# num_sequences_per_batch = 1024 # or Batch Size\n",
    "# steps_per_epoch = len(sequences)//num_sequences_per_batch  # Number of batches per epoch\n",
    "# train_generator = data_generator(X, y, num_sequences_per_batch)\n",
    "\n",
    "# sample=next(train_generator) # this is how you get data out of generators\n",
    "# sample[0].shape # (batch_size, (n-1)*EMBEDDING_SIZE)"
   ]
  },
  {
   "cell_type": "markdown",
   "metadata": {},
   "source": [
    "### d) Train your models"
   ]
  },
  {
   "cell_type": "code",
   "execution_count": null,
   "metadata": {
    "ExecuteTime": {
     "end_time": "2020-10-24T04:56:19.207252Z",
     "start_time": "2020-10-24T04:56:19.204894Z"
    }
   },
   "outputs": [],
   "source": []
  },
  {
   "cell_type": "code",
   "execution_count": null,
   "metadata": {
    "ExecuteTime": {
     "end_time": "2020-10-24T03:56:50.919869Z",
     "start_time": "2020-10-24T03:56:50.779792Z"
    }
   },
   "outputs": [],
   "source": [
    "# code to train a feedforward neural language model \n",
    "# on a set of given word embeddings\n",
    "# make sure not to just copy + paste to train your two \n",
    "\n",
    "# Defining the model architecture using Keras Sequential API\n"
   ]
  },
  {
   "cell_type": "code",
   "execution_count": null,
   "metadata": {
    "ExecuteTime": {
     "end_time": "2020-10-24T04:01:50.757170Z",
     "start_time": "2020-10-24T03:56:53.620836Z"
    }
   },
   "outputs": [],
   "source": [
    "# Start training the model\n",
    "model.fit_generator(train_generator, \n",
    "                    steps_per_epoch=steps_per_epoch,\n",
    "                    epochs=1)"
   ]
  },
  {
   "cell_type": "code",
   "execution_count": null,
   "metadata": {},
   "outputs": [],
   "source": []
  },
  {
   "cell_type": "code",
   "execution_count": null,
   "metadata": {},
   "outputs": [],
   "source": []
  },
  {
   "cell_type": "markdown",
   "metadata": {},
   "source": [
    "### e) Generate Sentences"
   ]
  },
  {
   "cell_type": "code",
   "execution_count": null,
   "metadata": {
    "ExecuteTime": {
     "end_time": "2020-10-24T04:13:54.425934Z",
     "start_time": "2020-10-24T04:13:54.418616Z"
    }
   },
   "outputs": [],
   "source": [
    "# generate a sequence from the model\n",
    "def generate_seq(model, tokenizer, seed, n_words):\n",
    "    '''\n",
    "    Parameters:\n",
    "        model: your neural network\n",
    "        tokenizer: the keras preprocessing tokenizer\n",
    "        seed: [w1, w2, w(n-1)]\n",
    "        n_words: generate a sentence of length n_words\n",
    "    Returns: string sentence\n",
    "    '''\n",
    "    pass"
   ]
  },
  {
   "cell_type": "code",
   "execution_count": null,
   "metadata": {
    "ExecuteTime": {
     "end_time": "2020-10-24T04:14:13.123529Z",
     "start_time": "2020-10-24T04:14:13.000264Z"
    }
   },
   "outputs": [],
   "source": []
  },
  {
   "cell_type": "markdown",
   "metadata": {},
   "source": [
    "### f) Compare your generated sentences"
   ]
  },
  {
   "cell_type": "code",
   "execution_count": null,
   "metadata": {},
   "outputs": [],
   "source": []
  },
  {
   "cell_type": "markdown",
   "metadata": {},
   "source": [
    "Sources Cited\n",
    "----------------------------\n"
   ]
  },
  {
   "cell_type": "markdown",
   "metadata": {},
   "source": [
    "1. https://github.com/DmitryUlyanov/Multicore-TSNE (FAST T-SNE)\n",
    "2. Kulshethra, Ria. \"NLP 101: Word2Vec — Skip-gram and CBOW\". Accessed November 8, 2020. https://towardsdatascience.com/nlp-101-word2vec-skip-gram-and-cbow-93512ee24314 \n",
    "Used to answer the questions about CBOW and skip-gram. \n",
    "3. "
   ]
  }
 ],
 "metadata": {
  "kernelspec": {
   "display_name": "Python 3",
   "language": "python",
   "name": "python3"
  },
  "language_info": {
   "codemirror_mode": {
    "name": "ipython",
    "version": 3
   },
   "file_extension": ".py",
   "mimetype": "text/x-python",
   "name": "python",
   "nbconvert_exporter": "python",
   "pygments_lexer": "ipython3",
   "version": "3.8.3"
  }
 },
 "nbformat": 4,
 "nbformat_minor": 4
}
